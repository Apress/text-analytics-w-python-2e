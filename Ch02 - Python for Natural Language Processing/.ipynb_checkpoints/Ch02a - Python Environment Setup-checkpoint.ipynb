{
 "cells": [
  {
   "cell_type": "code",
   "execution_count": 1,
   "metadata": {},
   "outputs": [
    {
     "name": "stderr",
     "output_type": "stream",
     "text": [
      "Python 3.5.2 :: Anaconda custom (64-bit)\n"
     ]
    }
   ],
   "source": [
    "!python --version"
   ]
  },
  {
   "cell_type": "code",
   "execution_count": 2,
   "metadata": {},
   "outputs": [
    {
     "name": "stdout",
     "output_type": "stream",
     "text": [
      "Welcome to Python\n"
     ]
    }
   ],
   "source": [
    "print('Welcome to Python')"
   ]
  },
  {
   "cell_type": "code",
   "execution_count": 3,
   "metadata": {},
   "outputs": [
    {
     "name": "stdout",
     "output_type": "stream",
     "text": [
      "pandas==0.20.3\n"
     ]
    },
    {
     "name": "stderr",
     "output_type": "stream",
     "text": [
      "You are using pip version 9.0.1, however version 10.0.1 is available.\n",
      "You should consider upgrading via the 'python -m pip install --upgrade pip' command.\n"
     ]
    }
   ],
   "source": [
    "!pip freeze | grep pandas"
   ]
  },
  {
   "cell_type": "code",
   "execution_count": 4,
   "metadata": {},
   "outputs": [
    {
     "name": "stdout",
     "output_type": "stream",
     "text": [
      "Requirement already satisfied: pandas in c:\\program files\\anaconda3\\lib\\site-packages\n",
      "Requirement already satisfied: python-dateutil>=2 in c:\\program files\\anaconda3\\lib\\site-packages (from pandas)\n",
      "Requirement already satisfied: pytz>=2011k in c:\\program files\\anaconda3\\lib\\site-packages (from pandas)\n",
      "Requirement already satisfied: numpy>=1.7.0 in c:\\program files\\anaconda3\\lib\\site-packages (from pandas)\n",
      "Requirement already satisfied: six>=1.5 in c:\\program files\\anaconda3\\lib\\site-packages (from python-dateutil>=2->pandas)\n"
     ]
    },
    {
     "name": "stderr",
     "output_type": "stream",
     "text": [
      "You are using pip version 9.0.1, however version 10.0.1 is available.\n",
      "You should consider upgrading via the 'python -m pip install --upgrade pip' command.\n"
     ]
    }
   ],
   "source": [
    "!pip install pandas"
   ]
  },
  {
   "cell_type": "code",
   "execution_count": 4,
   "metadata": {},
   "outputs": [
    {
     "name": "stdout",
     "output_type": "stream",
     "text": [
      "Collecting pandas\n",
      "  Downloading https://files.pythonhosted.org/packages/24/f1/bbe61db3ab675ae612d5261e69cff05f1ff0a7638469a9faa1c9cdc1dcd5/pandas-0.23.3-cp35-cp35m-win_amd64.whl (7.6MB)\n",
      "Collecting python-dateutil>=2.5.0 (from pandas)\n",
      "  Downloading https://files.pythonhosted.org/packages/cf/f5/af2b09c957ace60dcfac112b669c45c8c97e32f94aa8b56da4c6d1682825/python_dateutil-2.7.3-py2.py3-none-any.whl (211kB)\n",
      "Collecting numpy>=1.9.0 (from pandas)\n",
      "  Downloading https://files.pythonhosted.org/packages/f3/71/94628784c3f07d4bc0dd38f8753e3f751d66cfd5a6823591179608c27f09/numpy-1.14.5-cp35-none-win_amd64.whl (13.4MB)\n",
      "Collecting pytz>=2011k (from pandas)\n",
      "  Downloading https://files.pythonhosted.org/packages/30/4e/27c34b62430286c6d59177a0842ed90dc789ce5d1ed740887653b898779a/pytz-2018.5-py2.py3-none-any.whl (510kB)\n",
      "Collecting six>=1.5 (from python-dateutil>=2.5.0->pandas)\n",
      "  Downloading https://files.pythonhosted.org/packages/67/4b/141a581104b1f6397bfa78ac9d43d8ad29a7ca43ea90a2d863fe3056e86a/six-1.11.0-py2.py3-none-any.whl\n",
      "Installing collected packages: six, python-dateutil, numpy, pytz, pandas\n",
      "  Found existing installation: six 1.10.0\n",
      "    Uninstalling six-1.10.0:\n",
      "      Successfully uninstalled six-1.10.0\n",
      "  Found existing installation: python-dateutil 2.5.3\n",
      "    Uninstalling python-dateutil-2.5.3:\n",
      "      Successfully uninstalled python-dateutil-2.5.3\n",
      "  Found existing installation: numpy 1.14.0\n",
      "    Uninstalling numpy-1.14.0:\n"
     ]
    },
    {
     "name": "stderr",
     "output_type": "stream",
     "text": [
      "    DEPRECATION: Uninstalling a distutils installed project (six) has been deprecated and will be removed in a future version. This is due to the fact that uninstalling a distutils project will only partially uninstall the project.\n",
      "Exception:\n",
      "Traceback (most recent call last):\n",
      "  File \"c:\\program files\\anaconda3\\lib\\shutil.py\", line 538, in move\n",
      "    os.rename(src, real_dst)\n",
      "PermissionError: [WinError 5] Access is denied: 'c:\\\\program files\\\\anaconda3\\\\lib\\\\site-packages\\\\numpy-1.14.0.dist-info\\\\description.rst' -> 'C:\\\\Users\\\\DIP~1.DIP\\\\AppData\\\\Local\\\\Temp\\\\pip-bz4bun3s-uninstall\\\\program files\\\\anaconda3\\\\lib\\\\site-packages\\\\numpy-1.14.0.dist-info\\\\description.rst'\n",
      "\n",
      "During handling of the above exception, another exception occurred:\n",
      "\n",
      "Traceback (most recent call last):\n",
      "  File \"c:\\program files\\anaconda3\\lib\\site-packages\\pip\\basecommand.py\", line 215, in main\n",
      "    status = self.run(options, args)\n",
      "  File \"c:\\program files\\anaconda3\\lib\\site-packages\\pip\\commands\\install.py\", line 342, in run\n",
      "    prefix=options.prefix_path,\n",
      "  File \"c:\\program files\\anaconda3\\lib\\site-packages\\pip\\req\\req_set.py\", line 778, in install\n",
      "    requirement.uninstall(auto_confirm=True)\n",
      "  File \"c:\\program files\\anaconda3\\lib\\site-packages\\pip\\req\\req_install.py\", line 754, in uninstall\n",
      "    paths_to_remove.remove(auto_confirm)\n",
      "  File \"c:\\program files\\anaconda3\\lib\\site-packages\\pip\\req\\req_uninstall.py\", line 115, in remove\n",
      "    renames(path, new_path)\n",
      "  File \"c:\\program files\\anaconda3\\lib\\site-packages\\pip\\utils\\__init__.py\", line 267, in renames\n",
      "    shutil.move(old, new)\n",
      "  File \"c:\\program files\\anaconda3\\lib\\shutil.py\", line 553, in move\n",
      "    os.unlink(src)\n",
      "PermissionError: [WinError 5] Access is denied: 'c:\\\\program files\\\\anaconda3\\\\lib\\\\site-packages\\\\numpy-1.14.0.dist-info\\\\description.rst'\n",
      "You are using pip version 9.0.1, however version 10.0.1 is available.\n",
      "You should consider upgrading via the 'python -m pip install --upgrade pip' command.\n"
     ]
    }
   ],
   "source": [
    "!pip install pandas --upgrade"
   ]
  },
  {
   "cell_type": "markdown",
   "metadata": {},
   "source": [
    "```\n",
    "\n",
    "C:\\> conda install pandas\n",
    "Solving environment: done\n",
    "\n",
    "## Package Plan ##\n",
    "\n",
    "  environment location: C:\\Program Files\\Anaconda3\n",
    "\n",
    "  added / updated specs:\n",
    "    - pandas\n",
    "\n",
    "\n",
    "The following packages will be downloaded:\n",
    "\n",
    "    package                    |            build\n",
    "    ---------------------------|-----------------\n",
    "    pandas-0.23.3              |           py35_0         8.6 MB  conda-forge\n",
    "\n",
    "The following packages will be UPDATED:\n",
    "\n",
    "    pandas: 0.20.3-py35_1 conda-forge --> 0.23.3-py35_0 conda-forge\n",
    "\n",
    "Proceed ([y]/n)? y\n",
    "\n",
    "\n",
    "Downloading and Extracting Packages\n",
    "pandas-0.23.3        |  8.6 MB | ########################################################### | 100%\n",
    "Preparing transaction: done\n",
    "Verifying transaction: done\n",
    "Executing transaction: done\n",
    "```"
   ]
  },
  {
   "cell_type": "code",
   "execution_count": 5,
   "metadata": {},
   "outputs": [
    {
     "name": "stdout",
     "output_type": "stream",
     "text": [
      "pandas==0.23.3\n"
     ]
    },
    {
     "name": "stderr",
     "output_type": "stream",
     "text": [
      "You are using pip version 9.0.1, however version 10.0.1 is available.\n",
      "You should consider upgrading via the 'python -m pip install --upgrade pip' command.\n"
     ]
    }
   ],
   "source": [
    "!pip freeze | grep pandas"
   ]
  },
  {
   "cell_type": "markdown",
   "metadata": {},
   "source": [
    "```\n",
    "E:\\>mkdir Apress\n",
    "E:\\>cd Apress\n",
    "E:\\Apress>pip install virtualenv\n",
    "Collecting virtualenv\n",
    "Installing collected packages: virtualenv\n",
    "Successfully installed virtualenv-16.0.0\n",
    "\n",
    "E:\\Apress>mkdir test_proj && chdir test_proj\n",
    "\n",
    "E:\\Apress\\test_proj>virtualenv venv\n",
    "Using base prefix 'c:\\\\program files\\\\anaconda3'\n",
    "New python executable in E:\\Apress\\test_proj\\venv\\Scripts\\python.exe\n",
    "Installing setuptools, pip, wheel...done.\n",
    "\n",
    "E:\\Apress\\test_proj>echo 'This is Global System Python'\n",
    "'This is Global System Python'\n",
    "\n",
    "E:\\Apress\\test_proj>pip freeze | grep pandas\n",
    "pandas==0.23.3\n",
    "\n",
    "\n",
    "\n",
    "E:\\Apress\\test_proj>venv\\Scripts\\activate\n",
    "\n",
    "(venv) E:\\Apress\\test_proj>echo 'This is VirtualEnv Python'\n",
    "'This is VirtualEnv Python'\n",
    "\n",
    "(venv) E:\\Apress\\test_proj>pip install pandas==0.21.0\n",
    "Collecting pandas==0.21.0\n",
    "    100% |################################| 9.0MB 310kB/s\n",
    "Collecting pytz>=2011k (from pandas==0.21.0)\n",
    "Collecting python-dateutil>=2 (from pandas==0.21.0)\n",
    "Collecting numpy>=1.9.0 (from pandas==0.21.0)\n",
    "Collecting six>=1.5 (from python-dateutil>=2->pandas==0.21.0)\n",
    "\n",
    "Installing collected packages: pytz, six, python-dateutil, numpy, pandas\n",
    "Successfully installed numpy-1.14.5 pandas-0.21.0 python-dateutil-2.7.3 pytz-2018.5 six-1.11.0\n",
    "\n",
    "(venv) E:\\Apress\\test_proj>pip freeze | grep pandas\n",
    "pandas==0.21.0\n",
    "\n",
    "(venv) E:\\Apress\\test_proj>venv\\Scripts\\deactivate\n",
    "E:\\Apress\\test_proj>pip freeze | grep pandas\n",
    "pandas==0.23.3\n",
    "```\n"
   ]
  },
  {
   "cell_type": "markdown",
   "metadata": {},
   "source": [
    "http://docs.python-guide.org/en/latest/dev/virtualenvs/"
   ]
  }
 ],
 "metadata": {
  "anaconda-cloud": {},
  "kernelspec": {
   "display_name": "Python 3",
   "language": "python",
   "name": "python3"
  },
  "language_info": {
   "codemirror_mode": {
    "name": "ipython",
    "version": 3
   },
   "file_extension": ".py",
   "mimetype": "text/x-python",
   "name": "python",
   "nbconvert_exporter": "python",
   "pygments_lexer": "ipython3",
   "version": "3.6.5"
  }
 },
 "nbformat": 4,
 "nbformat_minor": 2
}
