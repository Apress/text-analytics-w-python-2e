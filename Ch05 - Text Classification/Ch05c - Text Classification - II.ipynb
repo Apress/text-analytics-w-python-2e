{
 "cells": [
  {
   "cell_type": "code",
   "execution_count": 1,
   "metadata": {},
   "outputs": [],
   "source": [
    "import pandas as pd\n",
    "import numpy as np\n",
    "import text_normalizer as tn"
   ]
  },
  {
   "cell_type": "code",
   "execution_count": 2,
   "metadata": {},
   "outputs": [],
   "source": [
    "data_df = pd.read_csv('clean_newsgroups.csv')"
   ]
  },
  {
   "cell_type": "code",
   "execution_count": 3,
   "metadata": {},
   "outputs": [
    {
     "data": {
      "text/plain": [
       "((12263,), (6041,))"
      ]
     },
     "execution_count": 3,
     "metadata": {},
     "output_type": "execute_result"
    }
   ],
   "source": [
    "from sklearn.model_selection import train_test_split\n",
    "\n",
    "train_corpus, test_corpus, train_label_nums, test_label_nums, train_label_names, test_label_names =\\\n",
    "                                 train_test_split(np.array(data_df['Clean Article']), np.array(data_df['Target Label']),\n",
    "                                                       np.array(data_df['Target Name']), test_size=0.33, random_state=42)\n",
    "\n",
    "train_corpus.shape, test_corpus.shape"
   ]
  },
  {
   "cell_type": "code",
   "execution_count": 6,
   "metadata": {},
   "outputs": [],
   "source": [
    "tokenized_train = [tn.tokenizer.tokenize(text)\n",
    "                   for text in train_corpus]\n",
    "tokenized_test = [tn.tokenizer.tokenize(text)\n",
    "                   for text in test_corpus]"
   ]
  },
  {
   "cell_type": "code",
   "execution_count": 7,
   "metadata": {},
   "outputs": [],
   "source": [
    "import gensim\n",
    "# build word2vec model\n",
    "w2v_num_features = 1000\n",
    "w2v_model = gensim.models.Word2Vec(tokenized_train, size=w2v_num_features, window=100,\n",
    "                                   min_count=2, sample=1e-3, sg=1, iter=5, workers=10)"
   ]
  },
  {
   "cell_type": "code",
   "execution_count": 10,
   "metadata": {},
   "outputs": [],
   "source": [
    "def document_vectorizer(corpus, model, num_features):\n",
    "    vocabulary = set(model.wv.index2word)\n",
    "    \n",
    "    def average_word_vectors(words, model, vocabulary, num_features):\n",
    "        feature_vector = np.zeros((num_features,), dtype=\"float64\")\n",
    "        nwords = 0.\n",
    "        \n",
    "        for word in words:\n",
    "            if word in vocabulary: \n",
    "                nwords = nwords + 1.\n",
    "                feature_vector = np.add(feature_vector, model.wv[word])\n",
    "        if nwords:\n",
    "            feature_vector = np.divide(feature_vector, nwords)\n",
    "\n",
    "        return feature_vector\n",
    "\n",
    "    features = [average_word_vectors(tokenized_sentence, model, vocabulary, num_features)\n",
    "                    for tokenized_sentence in corpus]\n",
    "    return np.array(features)"
   ]
  },
  {
   "cell_type": "code",
   "execution_count": 11,
   "metadata": {},
   "outputs": [],
   "source": [
    "# generate averaged word vector features from word2vec model\n",
    "avg_wv_train_features = document_vectorizer(corpus=tokenized_train, model=w2v_model,\n",
    "                                                     num_features=w2v_num_features)\n",
    "avg_wv_test_features = document_vectorizer(corpus=tokenized_test, model=w2v_model,\n",
    "                                                    num_features=w2v_num_features)"
   ]
  },
  {
   "cell_type": "code",
   "execution_count": 12,
   "metadata": {},
   "outputs": [
    {
     "name": "stdout",
     "output_type": "stream",
     "text": [
      "Word2Vec model:> Train features shape: (12263, 1000)  Test features shape: (6041, 1000)\n"
     ]
    }
   ],
   "source": [
    "print('Word2Vec model:> Train features shape:', avg_wv_train_features.shape, \n",
    "      ' Test features shape:', avg_wv_test_features.shape)"
   ]
  },
  {
   "cell_type": "code",
   "execution_count": 69,
   "metadata": {},
   "outputs": [
    {
     "name": "stdout",
     "output_type": "stream",
     "text": [
      "CV Accuracy (5-fold): [0.76026006 0.74796417 0.73746433 0.73989383 0.74386252]\n",
      "Mean CV Accuracy: 0.7458889820674891\n",
      "Test Accuracy: 0.7381228273464658\n"
     ]
    }
   ],
   "source": [
    "from sklearn.model_selection import cross_val_score\n",
    "from sklearn.linear_model import SGDClassifier\n",
    "\n",
    "svm = SGDClassifier(loss='hinge', penalty='l2', random_state=42, max_iter=500)\n",
    "svm.fit(avg_wv_train_features, train_label_names)\n",
    "svm_w2v_cv_scores = cross_val_score(svm, avg_wv_train_features, train_label_names, cv=5)\n",
    "svm_w2v_cv_mean_score = np.mean(svm_w2v_cv_scores)\n",
    "print('CV Accuracy (5-fold):', svm_w2v_cv_scores)\n",
    "print('Mean CV Accuracy:', svm_w2v_cv_mean_score)\n",
    "svm_w2v_test_score = svm.score(avg_wv_test_features, test_label_names)\n",
    "print('Test Accuracy:', svm_w2v_test_score)"
   ]
  },
  {
   "cell_type": "code",
   "execution_count": 4,
   "metadata": {},
   "outputs": [
    {
     "name": "stdout",
     "output_type": "stream",
     "text": [
      "GloVe model:> Train features shape: (12263, 300)  Test features shape: (6041, 300)\n"
     ]
    }
   ],
   "source": [
    "# feature engineering with GloVe model\n",
    "train_nlp = [tn.nlp(item) for item in train_corpus]\n",
    "train_glove_features = np.array([item.vector for item in train_nlp])\n",
    "\n",
    "test_nlp = [tn.nlp(item) for item in test_corpus]\n",
    "test_glove_features = np.array([item.vector for item in test_nlp])\n",
    "\n",
    "print('GloVe model:> Train features shape:', train_glove_features.shape, \n",
    "      ' Test features shape:', test_glove_features.shape)"
   ]
  },
  {
   "cell_type": "code",
   "execution_count": 10,
   "metadata": {},
   "outputs": [
    {
     "name": "stdout",
     "output_type": "stream",
     "text": [
      "CV Accuracy (5-fold): [ 0.68996343  0.67711726  0.67101508  0.67006942  0.66448445]\n",
      "Mean CV Accuracy: 0.674529928944\n",
      "Test Accuracy: 0.666777023672\n"
     ]
    }
   ],
   "source": [
    "svm = SGDClassifier(loss='hinge', penalty='l2', random_state=42, max_iter=500)\n",
    "svm.fit(train_glove_features, train_label_names)\n",
    "svm_glove_cv_scores = cross_val_score(svm, train_glove_features, train_label_names, cv=5)\n",
    "svm_glove_cv_mean_score = np.mean(svm_glove_cv_scores)\n",
    "print('CV Accuracy (5-fold):', svm_glove_cv_scores)\n",
    "print('Mean CV Accuracy:', svm_glove_cv_mean_score)\n",
    "svm_glove_test_score = svm.score(test_glove_features, test_label_names)\n",
    "print('Test Accuracy:', svm_glove_test_score)"
   ]
  },
  {
   "cell_type": "code",
   "execution_count": 27,
   "metadata": {},
   "outputs": [],
   "source": [
    "from gensim.models.fasttext import FastText\n",
    "\n",
    "ft_num_features = 1000\n",
    "# sg decides whether to use the skip-gram model (1) or CBOW (0)\n",
    "ft_model = FastText(tokenized_train, size=ft_num_features, window=100, \n",
    "                    min_count=2, sample=1e-3, sg=1, iter=5, workers=10)"
   ]
  },
  {
   "cell_type": "code",
   "execution_count": 28,
   "metadata": {},
   "outputs": [],
   "source": [
    "# generate averaged word vector features from word2vec model\n",
    "avg_ft_train_features = document_vectorizer(corpus=tokenized_train, model=ft_model,\n",
    "                                                     num_features=ft_num_features)\n",
    "avg_ft_test_features = document_vectorizer(corpus=tokenized_test, model=ft_model,\n",
    "                                                    num_features=ft_num_features)"
   ]
  },
  {
   "cell_type": "code",
   "execution_count": 29,
   "metadata": {},
   "outputs": [
    {
     "name": "stdout",
     "output_type": "stream",
     "text": [
      "FastText model:> Train features shape: (12263, 1000)  Test features shape: (6041, 1000)\n"
     ]
    }
   ],
   "source": [
    "print('FastText model:> Train features shape:', avg_ft_train_features.shape, \n",
    "      ' Test features shape:', avg_ft_test_features.shape)"
   ]
  },
  {
   "cell_type": "code",
   "execution_count": 68,
   "metadata": {},
   "outputs": [
    {
     "name": "stdout",
     "output_type": "stream",
     "text": [
      "CV Accuracy (5-fold): [0.76391711 0.74307818 0.74194863 0.74724377 0.74795417]\n",
      "Mean CV Accuracy: 0.7488283727085712\n",
      "Test Accuracy: 0.7434199635821884\n"
     ]
    }
   ],
   "source": [
    "svm = SGDClassifier(loss='hinge', penalty='l2', random_state=42, max_iter=500)\n",
    "svm.fit(avg_ft_train_features, train_label_names)\n",
    "svm_ft_cv_scores = cross_val_score(svm, avg_ft_train_features, train_label_names, cv=5)\n",
    "svm_ft_cv_mean_score = np.mean(svm_ft_cv_scores)\n",
    "print('CV Accuracy (5-fold):', svm_ft_cv_scores)\n",
    "print('Mean CV Accuracy:', svm_ft_cv_mean_score)\n",
    "svm_ft_test_score = svm.score(avg_ft_test_features, test_label_names)\n",
    "print('Test Accuracy:', svm_ft_test_score)"
   ]
  },
  {
   "cell_type": "code",
   "execution_count": 48,
   "metadata": {},
   "outputs": [
    {
     "data": {
      "text/plain": [
       "MLPClassifier(activation='relu', alpha=1e-05, batch_size='auto', beta_1=0.9,\n",
       "       beta_2=0.999, early_stopping=True, epsilon=1e-08,\n",
       "       hidden_layer_sizes=(512, 512), learning_rate='adaptive',\n",
       "       learning_rate_init=0.001, max_iter=200, momentum=0.9,\n",
       "       n_iter_no_change=10, nesterovs_momentum=True, power_t=0.5,\n",
       "       random_state=42, shuffle=True, solver='adam', tol=0.0001,\n",
       "       validation_fraction=0.1, verbose=False, warm_start=False)"
      ]
     },
     "execution_count": 48,
     "metadata": {},
     "output_type": "execute_result"
    }
   ],
   "source": [
    "from sklearn.neural_network import MLPClassifier\n",
    "\n",
    "mlp = MLPClassifier(solver='adam', alpha=1e-5, learning_rate='adaptive', early_stopping=True,\n",
    "                    activation = 'relu', hidden_layer_sizes=(512, 512), random_state=42)\n",
    "mlp.fit(avg_ft_train_features, train_label_names)"
   ]
  },
  {
   "cell_type": "code",
   "execution_count": 49,
   "metadata": {},
   "outputs": [
    {
     "name": "stdout",
     "output_type": "stream",
     "text": [
      "Test Accuracy: 0.7328256911107432\n"
     ]
    }
   ],
   "source": [
    "svm_ft_test_score = mlp.score(avg_ft_test_features, test_label_names)\n",
    "print('Test Accuracy:', svm_ft_test_score)"
   ]
  }
 ],
 "metadata": {
  "anaconda-cloud": {},
  "kernelspec": {
   "display_name": "Python 3",
   "language": "python",
   "name": "python3"
  },
  "language_info": {
   "codemirror_mode": {
    "name": "ipython",
    "version": 3
   },
   "file_extension": ".py",
   "mimetype": "text/x-python",
   "name": "python",
   "nbconvert_exporter": "python",
   "pygments_lexer": "ipython3",
   "version": "3.6.5"
  }
 },
 "nbformat": 4,
 "nbformat_minor": 2
}
