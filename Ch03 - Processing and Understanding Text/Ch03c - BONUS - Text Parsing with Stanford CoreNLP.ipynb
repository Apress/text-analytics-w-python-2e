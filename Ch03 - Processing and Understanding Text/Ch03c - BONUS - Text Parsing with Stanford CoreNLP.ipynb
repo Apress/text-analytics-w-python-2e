{
 "cells": [
  {
   "cell_type": "markdown",
   "metadata": {},
   "source": [
    "# Constituency Parsing with Stanford NLP\n",
    "\n",
    "Source: https://towardsdatascience.com/a-practitioners-guide-to-natural-language-processing-part-i-processing-understanding-text-9f4abfd13e72\n",
    "\n",
    "Constituent-based grammars are used to analyze and determine the constituents of a sentence. These grammars can be used to model or represent the internal structure of sentences in terms of a hierarchically ordered structure of their constituents. Each and every word usually belongs to a specific lexical category in the case and forms the head word of different phrases. These phrases are formed based on rules called phrase structure rules.\n",
    "\n",
    "___Phrase structure rules___ form the core of constituency grammars, because they talk about syntax and rules that govern the hierarchy and ordering of the various constituents in the sentences. These rules cater to two things primarily.\n",
    "\n",
    "- They determine what words are used to construct the phrases or constituents.\n",
    "- They determine how we need to order these constituents together.\n",
    "\n",
    "The generic representation of a phrase structure rule is ___S → AB___ , which depicts that the structure ___S___ consists of constituents ___A___ and ___B___ , and the ordering is ___A___ followed by ___B___. While there are several rules (refer to Chapter 1, Page 19: Text Analytics with Python, if you want to dive deeper), the most important rule describes how to divide a sentence or a clause. \n",
    "\n",
    "The phrase structure rule denotes a binary division for a sentence or a clause as ___S → NP VP___ where ___S___ is the sentence or clause, and it is divided into the subject, denoted by the noun phrase ___(NP)___ and the predicate, denoted by the verb phrase ___(VP)___.\n",
    "\n",
    "A constituency parser can be built based on such grammars/rules, which are usually collectively available as context-free grammar (CFG) or phrase-structured grammar. The parser will process input sentences according to these rules, and help in building a parse tree.\n",
    "\n",
    "![](constituency_example.png)"
   ]
  },
  {
   "cell_type": "markdown",
   "metadata": {},
   "source": [
    "We will be using nltk and the StanfordParser here to generate parse trees.\n",
    "\n",
    "__Prerequisites:__ Download the official Stanford Parser from [here](http://nlp.stanford.edu/software/stanford-parser-full-2015-04-20.zip), which seems to work quite well. You can try out a later version by going to [this website](http://nlp.stanford.edu/software/lex-parser.shtml#Download) and checking the Release History section. After downloading, unzip it to a known location in your filesystem. Once done, you are now ready to use the parser from nltk , which we will be exploring soon.\n",
    "\n",
    "The Stanford parser generally uses a PCFG (probabilistic context-free grammar) parser. A PCFG is a context-free grammar that associates a probability with each of its production rules. The probability of a parse tree generated from a PCFG is simply the production of the individual probabilities of the productions used to generate it.\n",
    "\n",
    "You might need to [download](https://www.oracle.com/technetwork/java/javase/downloads/jre8-downloads-2133155.html) and install Java in case you don't have it already."
   ]
  },
  {
   "cell_type": "code",
   "execution_count": 1,
   "metadata": {},
   "outputs": [],
   "source": [
    "# set java path\n",
    "import os\n",
    "java_path = r'C:\\Program Files\\Java\\jre1.8.0_192\\bin\\java.exe'\n",
    "os.environ['JAVAHOME'] = java_path"
   ]
  },
  {
   "cell_type": "code",
   "execution_count": 3,
   "metadata": {},
   "outputs": [
    {
     "name": "stderr",
     "output_type": "stream",
     "text": [
      "C:\\Anaconda3\\lib\\site-packages\\ipykernel_launcher.py:4: DeprecationWarning: The StanfordParser will be deprecated\n",
      "Please use \u001b[91mnltk.parse.corenlp.CoreNLPParser\u001b[0m instead.\n",
      "  after removing the cwd from sys.path.\n"
     ]
    },
    {
     "data": {
      "text/plain": [
       "<nltk.parse.stanford.StanfordParser at 0x24e6811a898>"
      ]
     },
     "execution_count": 3,
     "metadata": {},
     "output_type": "execute_result"
    }
   ],
   "source": [
    "from nltk.parse.stanford import StanfordParser\n",
    "\n",
    "scp = StanfordParser(path_to_jar='E:/stanford/stanford-parser-full-2015-04-20/stanford-parser.jar',\n",
    "                     path_to_models_jar='E:/stanford/stanford-parser-full-2015-04-20/stanford-parser-3.5.2-models.jar')\n",
    "scp"
   ]
  },
  {
   "cell_type": "code",
   "execution_count": 4,
   "metadata": {},
   "outputs": [
    {
     "data": {
      "text/plain": [
       "'This NLP Workshop is being organized by Analytics Vidhya as part of the DataHack Summit 2018'"
      ]
     },
     "execution_count": 4,
     "metadata": {},
     "output_type": "execute_result"
    }
   ],
   "source": [
    "sentence = 'This NLP Workshop is being organized by Analytics Vidhya as part of the DataHack Summit 2018'\n",
    "sentence"
   ]
  },
  {
   "cell_type": "code",
   "execution_count": 15,
   "metadata": {},
   "outputs": [
    {
     "name": "stdout",
     "output_type": "stream",
     "text": [
      "(ROOT\n",
      "  (S\n",
      "    (NP (DT This) (NNP NLP) (NNP Workshop))\n",
      "    (VP\n",
      "      (VBZ is)\n",
      "      (VP\n",
      "        (VBG being)\n",
      "        (VP\n",
      "          (VBN organized)\n",
      "          (PP\n",
      "            (IN by)\n",
      "            (NP\n",
      "              (NP (NNP Analytics) (NNP Vidhya))\n",
      "              (PP\n",
      "                (IN as)\n",
      "                (NP\n",
      "                  (NP (NN part))\n",
      "                  (PP\n",
      "                    (IN of)\n",
      "                    (NP\n",
      "                      (DT the)\n",
      "                      (NNP DataHack)\n",
      "                      (NNP Summit)\n",
      "                      (NNP 2018))))))))))))\n"
     ]
    }
   ],
   "source": [
    "result = list(scp.raw_parse(sentence))[0]\n",
    "print(result)"
   ]
  },
  {
   "cell_type": "code",
   "execution_count": 16,
   "metadata": {},
   "outputs": [
    {
     "data": {
      "image/png": "[encoded data removed]",
      "text/plain": [
       "Tree('ROOT', [Tree('S', [Tree('NP', [Tree('DT', ['This']), Tree('NNP', ['NLP']), Tree('NNP', ['Workshop'])]), Tree('VP', [Tree('VBZ', ['is']), Tree('VP', [Tree('VBG', ['being']), Tree('VP', [Tree('VBN', ['organized']), Tree('PP', [Tree('IN', ['by']), Tree('NP', [Tree('NP', [Tree('NNP', ['Analytics']), Tree('NNP', ['Vidhya'])]), Tree('PP', [Tree('IN', ['as']), Tree('NP', [Tree('NP', [Tree('NN', ['part'])]), Tree('PP', [Tree('IN', ['of']), Tree('NP', [Tree('DT', ['the']), Tree('NNP', ['DataHack']), Tree('NNP', ['Summit']), Tree('NNP', ['2018'])])])])])])])])])])])])"
      ]
     },
     "execution_count": 16,
     "metadata": {},
     "output_type": "execute_result"
    }
   ],
   "source": [
    "os.environ['PATH'] = os.environ['PATH']+r';C:\\Program Files\\gs\\gs9.25\\bin'\n",
    "result"
   ]
  },
  {
   "cell_type": "code",
   "execution_count": 17,
   "metadata": {},
   "outputs": [
    {
     "name": "stdout",
     "output_type": "stream",
     "text": [
      "           ROOT                                                                                     \n",
      "            |                                                                                        \n",
      "            S                                                                                       \n",
      "       _____|___________                                                                             \n",
      "      |                 VP                                                                          \n",
      "      |             ____|_______                                                                     \n",
      "      |            |            VP                                                                  \n",
      "      |            |     _______|______                                                              \n",
      "      |            |    |              VP                                                           \n",
      "      |            |    |        ______|______                                                       \n",
      "      |            |    |       |             PP                                                    \n",
      "      |            |    |       |       ______|___________                                           \n",
      "      |            |    |       |      |                  NP                                        \n",
      "      |            |    |       |      |              ____|_________                                 \n",
      "      |            |    |       |      |             |              PP                              \n",
      "      |            |    |       |      |             |           ___|____                            \n",
      "      |            |    |       |      |             |          |        NP                         \n",
      "      |            |    |       |      |             |          |    ____|___                        \n",
      "      |            |    |       |      |             |          |   |        PP                     \n",
      "      |            |    |       |      |             |          |   |     ___|_____                  \n",
      "      NP           |    |       |      |             NP         |   NP   |         NP               \n",
      "  ____|_____       |    |       |      |       ______|____      |   |    |    _____|_____________    \n",
      " DT  NNP   NNP    VBZ  VBG     VBN     IN    NNP         NNP    IN  NN   IN  DT   NNP     NNP   NNP \n",
      " |    |     |      |    |       |      |      |           |     |   |    |   |     |       |     |   \n",
      "This NLP Workshop  is being organized  by Analytics     Vidhya  as part  of the DataHack Summit 2018\n",
      "\n"
     ]
    }
   ],
   "source": [
    "result.pretty_print()"
   ]
  },
  {
   "cell_type": "markdown",
   "metadata": {},
   "source": [
    "We can see the nested hierarchical structure of the constituents in the preceding output as compared to the flat structure in shallow parsing. Refer to the [Penn Treebank reference](https://web.archive.org/web/20130517134339/http://bulba.sdsu.edu/jeanette/thesis/PennTags.html) as needed to lookup other tags."
   ]
  },
  {
   "cell_type": "markdown",
   "metadata": {},
   "source": [
    "# Constituency Parsing with Stanford CoreNLP"
   ]
  },
  {
   "cell_type": "markdown",
   "metadata": {},
   "source": [
    "You may have seen in the above messages that they are deprecating the old Stanford Parsers in favor of the more active Stanford Core NLP Project. It might even get removed after `nltk` version `3.4` so best to stay updated.\n",
    "\n",
    "Details: https://github.com/nltk/nltk/issues/1839\n",
    "\n",
    "Step by Step Tutorial here: https://github.com/nltk/nltk/wiki/Stanford-CoreNLP-API-in-NLTK\n",
    "\n",
    "Sadly a lot of things have changed in the process so we need to do some extra effort to make it work!\n",
    "\n",
    "Get CoreNLP from [here](https://stanfordnlp.github.io/CoreNLP/)\n",
    "\n",
    "After you download, go to the folder and spin up a terminal and start the Core NLP Server locally\n",
    "\n",
    "```\n",
    "E:\\> java -mx4g -cp \"*\" edu.stanford.nlp.pipeline.StanfordCoreNLPServer -preload tokenize,ssplit,pos,lemma,ner,parse,depparse -status_port 9000 -port 9000 -timeout 15000\n",
    "```\n",
    "\n",
    "If it runs successfully you should see the following messages on the terminal\n",
    "\n",
    "```\n",
    "E:\\stanford\\stanford-corenlp-full-2018-02-27>java -mx4g -cp \"*\" edu.stanford.nlp.pipeline.StanfordCoreNLPServer -preload tokenize,ssplit,pos,lemma,ner,parse,depparse -status_port 9000 -port 9000 -timeout 15000\n",
    "[main] INFO CoreNLP - --- StanfordCoreNLPServer#main() called ---\n",
    "[main] INFO CoreNLP - setting default constituency parser\n",
    "[main] INFO CoreNLP - warning: cannot find edu/stanford/nlp/models/srparser/englishSR.ser.gz\n",
    "[main] INFO CoreNLP - using: edu/stanford/nlp/models/lexparser/englishPCFG.ser.gz instead\n",
    "[main] INFO CoreNLP - to use shift reduce parser download English models jar from:\n",
    "[main] INFO CoreNLP - http://stanfordnlp.github.io/CoreNLP/download.html\n",
    "[main] INFO CoreNLP -     Threads: 4\n",
    "[main] INFO edu.stanford.nlp.pipeline.StanfordCoreNLP - Adding annotator tokenize\n",
    "[main] INFO edu.stanford.nlp.pipeline.TokenizerAnnotator - No tokenizer type provided. Defaulting to PTBTokenizer.\n",
    "[main] INFO edu.stanford.nlp.pipeline.StanfordCoreNLP - Adding annotator ssplit\n",
    "[main] INFO edu.stanford.nlp.pipeline.StanfordCoreNLP - Adding annotator pos\n",
    "[main] INFO edu.stanford.nlp.tagger.maxent.MaxentTagger - Loading POS tagger from edu/stanford/nlp/models/pos-tagger/english-left3words/english-left3words-distsim.tagger ... done [1.4 sec].\n",
    "[main] INFO edu.stanford.nlp.pipeline.StanfordCoreNLP - Adding annotator lemma\n",
    "[main] INFO edu.stanford.nlp.pipeline.StanfordCoreNLP - Adding annotator ner\n",
    "[main] INFO edu.stanford.nlp.ie.AbstractSequenceClassifier - Loading classifier from edu/stanford/nlp/models/ner/english.all.3class.distsim.crf.ser.gz ... done [1.9 sec].\n",
    "[main] INFO edu.stanford.nlp.ie.AbstractSequenceClassifier - Loading classifier from edu/stanford/nlp/models/ner/english.muc.7class.distsim.crf.ser.gz ... done [2.0 sec].\n",
    "[main] INFO edu.stanford.nlp.ie.AbstractSequenceClassifier - Loading classifier from edu/stanford/nlp/models/ner/english.conll.4class.distsim.crf.ser.gz ... done [0.8 sec].\n",
    "[main] INFO edu.stanford.nlp.time.JollyDayHolidays - Initializing JollyDayHoliday for SUTime from classpath edu/stanford/nlp/models/sutime/jollyday/Holidays_sutime.xml as sutime.binder.1.\n",
    "[main] INFO edu.stanford.nlp.time.TimeExpressionExtractorImpl - Using following SUTime rules: edu/stanford/nlp/models/sutime/defs.sutime.txt,edu/stanford/nlp/models/sutime/english.sutime.txt,edu/stanford/nlp/models/sutime/english.holidays.sutime.txt\n",
    "[main] INFO edu.stanford.nlp.pipeline.TokensRegexNERAnnotator - TokensRegexNERAnnotator ner.fine.regexner: Read 580641 unique entries out of 581790 from edu/stanford/nlp/models/kbp/regexner_caseless.tab, 0 TokensRegex patterns.\n",
    "[main] INFO edu.stanford.nlp.pipeline.TokensRegexNERAnnotator - TokensRegexNERAnnotator ner.fine.regexner: Read 4857 unique entries out of 4868 from edu/stanford/nlp/models/kbp/regexner_cased.tab, 0 TokensRegex patterns.\n",
    "[main] INFO edu.stanford.nlp.pipeline.TokensRegexNERAnnotator - TokensRegexNERAnnotator ner.fine.regexner: Read 585498 unique entries from 2 files\n",
    "[main] INFO edu.stanford.nlp.pipeline.StanfordCoreNLP - Adding annotator parse\n",
    "[main] INFO edu.stanford.nlp.parser.common.ParserGrammar - Loading parser from serialized file edu/stanford/nlp/models/lexparser/englishPCFG.ser.gz ... done [4.6 sec].\n",
    "[main] INFO edu.stanford.nlp.pipeline.StanfordCoreNLP - Adding annotator depparse\n",
    "[main] INFO edu.stanford.nlp.parser.nndep.DependencyParser - Loading depparse model: edu/stanford/nlp/models/parser/nndep/english_UD.gz ...\n",
    "[main] INFO edu.stanford.nlp.parser.nndep.Classifier - PreComputed 99996, Elapsed Time: 22.43 (s)\n",
    "[main] INFO edu.stanford.nlp.parser.nndep.DependencyParser - Initializing dependency parser ... done [24.4 sec].\n",
    "[main] INFO CoreNLP - Starting server...\n",
    "[main] INFO CoreNLP - StanfordCoreNLPServer listening at /0:0:0:0:0:0:0:0:9000\n",
    "```"
   ]
  },
  {
   "cell_type": "code",
   "execution_count": 8,
   "metadata": {},
   "outputs": [
    {
     "data": {
      "text/plain": [
       "<nltk.parse.corenlp.CoreNLPParser at 0x24e6a004a90>"
      ]
     },
     "execution_count": 8,
     "metadata": {},
     "output_type": "execute_result"
    }
   ],
   "source": [
    "from nltk.parse import CoreNLPParser\n",
    "\n",
    "cnp = CoreNLPParser()\n",
    "cnp"
   ]
  },
  {
   "cell_type": "code",
   "execution_count": 12,
   "metadata": {},
   "outputs": [
    {
     "name": "stdout",
     "output_type": "stream",
     "text": [
      "(ROOT\n",
      "  (S\n",
      "    (NP (DT This) (NNP NLP) (NNP Workshop))\n",
      "    (VP\n",
      "      (VBZ is)\n",
      "      (VP\n",
      "        (VBG being)\n",
      "        (VP\n",
      "          (VBN organized)\n",
      "          (PP\n",
      "            (IN by)\n",
      "            (NP\n",
      "              (NP (NNP Analytics) (NNP Vidhya))\n",
      "              (PP\n",
      "                (IN as)\n",
      "                (NP\n",
      "                  (NP (NN part))\n",
      "                  (PP\n",
      "                    (IN of)\n",
      "                    (NP\n",
      "                      (DT the)\n",
      "                      (NNP DataHack)\n",
      "                      (NNP Summit)\n",
      "                      (CD 2018))))))))))))\n"
     ]
    }
   ],
   "source": [
    "result = list(cnp.raw_parse(sentence))[0]\n",
    "print(result)"
   ]
  },
  {
   "cell_type": "code",
   "execution_count": 13,
   "metadata": {},
   "outputs": [
    {
     "data": {
      "image/png": "[encoded data removed]",
      "text/plain": [
       "Tree('ROOT', [Tree('S', [Tree('NP', [Tree('DT', ['This']), Tree('NNP', ['NLP']), Tree('NNP', ['Workshop'])]), Tree('VP', [Tree('VBZ', ['is']), Tree('VP', [Tree('VBG', ['being']), Tree('VP', [Tree('VBN', ['organized']), Tree('PP', [Tree('IN', ['by']), Tree('NP', [Tree('NP', [Tree('NNP', ['Analytics']), Tree('NNP', ['Vidhya'])]), Tree('PP', [Tree('IN', ['as']), Tree('NP', [Tree('NP', [Tree('NN', ['part'])]), Tree('PP', [Tree('IN', ['of']), Tree('NP', [Tree('DT', ['the']), Tree('NNP', ['DataHack']), Tree('NNP', ['Summit']), Tree('CD', ['2018'])])])])])])])])])])])])"
      ]
     },
     "execution_count": 13,
     "metadata": {},
     "output_type": "execute_result"
    }
   ],
   "source": [
    "result"
   ]
  },
  {
   "cell_type": "code",
   "execution_count": 14,
   "metadata": {},
   "outputs": [
    {
     "name": "stdout",
     "output_type": "stream",
     "text": [
      "           ROOT                                                                                     \n",
      "            |                                                                                        \n",
      "            S                                                                                       \n",
      "       _____|___________                                                                             \n",
      "      |                 VP                                                                          \n",
      "      |             ____|_______                                                                     \n",
      "      |            |            VP                                                                  \n",
      "      |            |     _______|______                                                              \n",
      "      |            |    |              VP                                                           \n",
      "      |            |    |        ______|______                                                       \n",
      "      |            |    |       |             PP                                                    \n",
      "      |            |    |       |       ______|___________                                           \n",
      "      |            |    |       |      |                  NP                                        \n",
      "      |            |    |       |      |              ____|_________                                 \n",
      "      |            |    |       |      |             |              PP                              \n",
      "      |            |    |       |      |             |           ___|____                            \n",
      "      |            |    |       |      |             |          |        NP                         \n",
      "      |            |    |       |      |             |          |    ____|___                        \n",
      "      |            |    |       |      |             |          |   |        PP                     \n",
      "      |            |    |       |      |             |          |   |     ___|_____                  \n",
      "      NP           |    |       |      |             NP         |   NP   |         NP               \n",
      "  ____|_____       |    |       |      |       ______|____      |   |    |    _____|_____________    \n",
      " DT  NNP   NNP    VBZ  VBG     VBN     IN    NNP         NNP    IN  NN   IN  DT   NNP     NNP    CD \n",
      " |    |     |      |    |       |      |      |           |     |   |    |   |     |       |     |   \n",
      "This NLP Workshop  is being organized  by Analytics     Vidhya  as part  of the DataHack Summit 2018\n",
      "\n"
     ]
    }
   ],
   "source": [
    "result.pretty_print()"
   ]
  },
  {
   "cell_type": "markdown",
   "metadata": {},
   "source": [
    "# Dependency Parsing with Spacy\n",
    "\n",
    "In dependency parsing, we try to use dependency-based grammars to analyze and infer both structure and semantic dependencies and relationships between tokens in a sentence. The basic principle behind a dependency grammar is that in any sentence in the language, all words except one, have some relationship or dependency on other words in the sentence. The word that has no dependency is called the root of the sentence. The verb is taken as the root of the sentence in most cases. All the other words are directly or indirectly linked to the root verb using links , which are the dependencies.\n",
    "\n",
    "Considering our sentence ___“The brown fox is quick and he is jumping over the lazy dog”___ , if we wanted to draw the dependency syntax tree for this, we would have the following structure.\n",
    "\n",
    "![](dependency_example.png)\n",
    "\n",
    "These dependency relationships each have their own meaning and are a part of a list of universal dependency types. This is discussed in an original paper, [_Universal Stanford Dependencies: A Cross-Linguistic Typology by de Marneffe et al, 2014_](https://nlp.stanford.edu/pubs/USD_LREC14_paper_camera_ready.pdf). You can check out the exhaustive list of dependency types and their meanings [here](http://universaldependencies.org/u/dep/index.html).\n",
    "\n",
    "If we observe some of these dependencies, it is not too hard to understand them.\n",
    "\n",
    "- The dependency tag det is pretty intuitive — it denotes the determiner relationship between a nominal head and the determiner. Usually, the word with POS tag DET will also have the det dependency tag relation. Examples include fox → the and dog → the.\n",
    "- The dependency tag amod stands for adjectival modifier and stands for any adjective that modifies the meaning of a noun. Examples include fox → brown and dog → lazy.\n",
    "- The dependency tag nsubj stands for an entity that acts as a subject or agent in a clause. Examples include is → fox and jumping → he.\n",
    "- The dependencies cc and conj have more to do with linkages related to words connected by coordinating conjunctions . Examples include is → and and is → jumping.\n",
    "- The dependency tag aux indicates the auxiliary or secondary verb in the clause. Example: jumping → is.\n",
    "- The dependency tag acomp stands for adjective complement and acts as the complement or object to a verb in the sentence. Example: is → quick\n",
    "- The dependency tag prep denotes a prepositional modifier, which usually modifies the meaning of a noun, verb, adjective, or preposition. Usually, this representation is used for prepositions having a noun or noun phrase complement. Example: jumping → over.\n",
    "- The dependency tag pobj is used to denote the object of a preposition . This is usually the head of a noun phrase following a preposition in the sentence. Example: over → dog.\n",
    "\n",
    "Spacy had two types of English dependency parsers based on what language models you use, you can find more details [here](https://spacy.io/api/annotation#section-dependency-parsing). Based on language models, you can use the Universal Dependencies Scheme or the CLEAR Style Dependency Scheme also available in NLP4J now."
   ]
  },
  {
   "cell_type": "code",
   "execution_count": 19,
   "metadata": {},
   "outputs": [
    {
     "name": "stdout",
     "output_type": "stream",
     "text": [
      "[]<---This[det]--->[]\n",
      "--------\n",
      "[]<---NLP[compound]--->[]\n",
      "--------\n",
      "['This', 'NLP']<---Workshop[nsubjpass]--->[]\n",
      "--------\n",
      "[]<---is[aux]--->[]\n",
      "--------\n",
      "[]<---being[auxpass]--->[]\n",
      "--------\n",
      "['Workshop', 'is', 'being']<---organized[ROOT]--->['by', 'as']\n",
      "--------\n",
      "[]<---by[agent]--->['Vidhya']\n",
      "--------\n",
      "[]<---Analytics[compound]--->[]\n",
      "--------\n",
      "['Analytics']<---Vidhya[pobj]--->[]\n",
      "--------\n",
      "[]<---as[prep]--->['part']\n",
      "--------\n",
      "[]<---part[pobj]--->['of']\n",
      "--------\n",
      "[]<---of[prep]--->['Summit']\n",
      "--------\n",
      "[]<---the[det]--->[]\n",
      "--------\n",
      "[]<---DataHack[compound]--->[]\n",
      "--------\n",
      "['the', 'DataHack']<---Summit[pobj]--->['2018']\n",
      "--------\n",
      "[]<---2018[appos]--->[]\n",
      "--------\n"
     ]
    }
   ],
   "source": [
    "import spacy\n",
    "\n",
    "nlp = spacy.load('en', parse=False, tag=False, entity=False)\n",
    "dependency_pattern = '{left}<---{word}[{w_type}]--->{right}\\n--------'\n",
    "sentence_nlp = nlp(sentence)\n",
    "\n",
    "for token in sentence_nlp:\n",
    "    print(dependency_pattern.format(word=token.orth_, \n",
    "                                   w_type=token.dep_,\n",
    "                                   left=[t.orth_ \n",
    "                                            for t \n",
    "                                            in token.lefts],\n",
    "                                   right=[t.orth_ \n",
    "                                             for t \n",
    "                                             in token.rights]))"
   ]
  },
  {
   "cell_type": "code",
   "execution_count": 20,
   "metadata": {},
   "outputs": [
    {
     "data": {
      "text/html": [
       "<svg xmlns=\"http://www.w3.org/2000/svg\" xmlns:xlink=\"http://www.w3.org/1999/xlink\" id=\"0\" class=\"displacy\" width=\"1810\" height=\"357.0\" style=\"max-width: none; height: 357.0px; color: #000000; background: #ffffff; font-family: Arial\">\n",
       "<text class=\"displacy-token\" fill=\"currentColor\" text-anchor=\"middle\" y=\"267.0\">\n",
       "    <tspan class=\"displacy-word\" fill=\"currentColor\" x=\"50\">This</tspan>\n",
       "    <tspan class=\"displacy-tag\" dy=\"2em\" fill=\"currentColor\" x=\"50\">DET</tspan>\n",
       "</text>\n",
       "\n",
       "<text class=\"displacy-token\" fill=\"currentColor\" text-anchor=\"middle\" y=\"267.0\">\n",
       "    <tspan class=\"displacy-word\" fill=\"currentColor\" x=\"160\">NLP</tspan>\n",
       "    <tspan class=\"displacy-tag\" dy=\"2em\" fill=\"currentColor\" x=\"160\">PROPN</tspan>\n",
       "</text>\n",
       "\n",
       "<text class=\"displacy-token\" fill=\"currentColor\" text-anchor=\"middle\" y=\"267.0\">\n",
       "    <tspan class=\"displacy-word\" fill=\"currentColor\" x=\"270\">Workshop</tspan>\n",
       "    <tspan class=\"displacy-tag\" dy=\"2em\" fill=\"currentColor\" x=\"270\">PROPN</tspan>\n",
       "</text>\n",
       "\n",
       "<text class=\"displacy-token\" fill=\"currentColor\" text-anchor=\"middle\" y=\"267.0\">\n",
       "    <tspan class=\"displacy-word\" fill=\"currentColor\" x=\"380\">is</tspan>\n",
       "    <tspan class=\"displacy-tag\" dy=\"2em\" fill=\"currentColor\" x=\"380\">VERB</tspan>\n",
       "</text>\n",
       "\n",
       "<text class=\"displacy-token\" fill=\"currentColor\" text-anchor=\"middle\" y=\"267.0\">\n",
       "    <tspan class=\"displacy-word\" fill=\"currentColor\" x=\"490\">being</tspan>\n",
       "    <tspan class=\"displacy-tag\" dy=\"2em\" fill=\"currentColor\" x=\"490\">VERB</tspan>\n",
       "</text>\n",
       "\n",
       "<text class=\"displacy-token\" fill=\"currentColor\" text-anchor=\"middle\" y=\"267.0\">\n",
       "    <tspan class=\"displacy-word\" fill=\"currentColor\" x=\"600\">organized</tspan>\n",
       "    <tspan class=\"displacy-tag\" dy=\"2em\" fill=\"currentColor\" x=\"600\">VERB</tspan>\n",
       "</text>\n",
       "\n",
       "<text class=\"displacy-token\" fill=\"currentColor\" text-anchor=\"middle\" y=\"267.0\">\n",
       "    <tspan class=\"displacy-word\" fill=\"currentColor\" x=\"710\">by</tspan>\n",
       "    <tspan class=\"displacy-tag\" dy=\"2em\" fill=\"currentColor\" x=\"710\">ADP</tspan>\n",
       "</text>\n",
       "\n",
       "<text class=\"displacy-token\" fill=\"currentColor\" text-anchor=\"middle\" y=\"267.0\">\n",
       "    <tspan class=\"displacy-word\" fill=\"currentColor\" x=\"820\">Analytics</tspan>\n",
       "    <tspan class=\"displacy-tag\" dy=\"2em\" fill=\"currentColor\" x=\"820\">PROPN</tspan>\n",
       "</text>\n",
       "\n",
       "<text class=\"displacy-token\" fill=\"currentColor\" text-anchor=\"middle\" y=\"267.0\">\n",
       "    <tspan class=\"displacy-word\" fill=\"currentColor\" x=\"930\">Vidhya</tspan>\n",
       "    <tspan class=\"displacy-tag\" dy=\"2em\" fill=\"currentColor\" x=\"930\">PROPN</tspan>\n",
       "</text>\n",
       "\n",
       "<text class=\"displacy-token\" fill=\"currentColor\" text-anchor=\"middle\" y=\"267.0\">\n",
       "    <tspan class=\"displacy-word\" fill=\"currentColor\" x=\"1040\">as</tspan>\n",
       "    <tspan class=\"displacy-tag\" dy=\"2em\" fill=\"currentColor\" x=\"1040\">ADP</tspan>\n",
       "</text>\n",
       "\n",
       "<text class=\"displacy-token\" fill=\"currentColor\" text-anchor=\"middle\" y=\"267.0\">\n",
       "    <tspan class=\"displacy-word\" fill=\"currentColor\" x=\"1150\">part</tspan>\n",
       "    <tspan class=\"displacy-tag\" dy=\"2em\" fill=\"currentColor\" x=\"1150\">NOUN</tspan>\n",
       "</text>\n",
       "\n",
       "<text class=\"displacy-token\" fill=\"currentColor\" text-anchor=\"middle\" y=\"267.0\">\n",
       "    <tspan class=\"displacy-word\" fill=\"currentColor\" x=\"1260\">of</tspan>\n",
       "    <tspan class=\"displacy-tag\" dy=\"2em\" fill=\"currentColor\" x=\"1260\">ADP</tspan>\n",
       "</text>\n",
       "\n",
       "<text class=\"displacy-token\" fill=\"currentColor\" text-anchor=\"middle\" y=\"267.0\">\n",
       "    <tspan class=\"displacy-word\" fill=\"currentColor\" x=\"1370\">the</tspan>\n",
       "    <tspan class=\"displacy-tag\" dy=\"2em\" fill=\"currentColor\" x=\"1370\">DET</tspan>\n",
       "</text>\n",
       "\n",
       "<text class=\"displacy-token\" fill=\"currentColor\" text-anchor=\"middle\" y=\"267.0\">\n",
       "    <tspan class=\"displacy-word\" fill=\"currentColor\" x=\"1480\">DataHack</tspan>\n",
       "    <tspan class=\"displacy-tag\" dy=\"2em\" fill=\"currentColor\" x=\"1480\">PROPN</tspan>\n",
       "</text>\n",
       "\n",
       "<text class=\"displacy-token\" fill=\"currentColor\" text-anchor=\"middle\" y=\"267.0\">\n",
       "    <tspan class=\"displacy-word\" fill=\"currentColor\" x=\"1590\">Summit</tspan>\n",
       "    <tspan class=\"displacy-tag\" dy=\"2em\" fill=\"currentColor\" x=\"1590\">PROPN</tspan>\n",
       "</text>\n",
       "\n",
       "<text class=\"displacy-token\" fill=\"currentColor\" text-anchor=\"middle\" y=\"267.0\">\n",
       "    <tspan class=\"displacy-word\" fill=\"currentColor\" x=\"1700\">2018</tspan>\n",
       "    <tspan class=\"displacy-tag\" dy=\"2em\" fill=\"currentColor\" x=\"1700\">NUM</tspan>\n",
       "</text>\n",
       "\n",
       "<g class=\"displacy-arrow\">\n",
       "    <path class=\"displacy-arc\" id=\"arrow-0-0\" stroke-width=\"2px\" d=\"M70,222.0 C70,112.0 260.0,112.0 260.0,222.0\" fill=\"none\" stroke=\"currentColor\"/>\n",
       "    <text dy=\"1.25em\" style=\"font-size: 0.8em; letter-spacing: 1px\">\n",
       "        <textPath xlink:href=\"#arrow-0-0\" class=\"displacy-label\" startOffset=\"50%\" fill=\"currentColor\" text-anchor=\"middle\">det</textPath>\n",
       "    </text>\n",
       "    <path class=\"displacy-arrowhead\" d=\"M70,224.0 L64,214.0 76,214.0\" fill=\"currentColor\"/>\n",
       "</g>\n",
       "\n",
       "<g class=\"displacy-arrow\">\n",
       "    <path class=\"displacy-arc\" id=\"arrow-0-1\" stroke-width=\"2px\" d=\"M180,222.0 C180,167.0 255.0,167.0 255.0,222.0\" fill=\"none\" stroke=\"currentColor\"/>\n",
       "    <text dy=\"1.25em\" style=\"font-size: 0.8em; letter-spacing: 1px\">\n",
       "        <textPath xlink:href=\"#arrow-0-1\" class=\"displacy-label\" startOffset=\"50%\" fill=\"currentColor\" text-anchor=\"middle\">compound</textPath>\n",
       "    </text>\n",
       "    <path class=\"displacy-arrowhead\" d=\"M180,224.0 L174,214.0 186,214.0\" fill=\"currentColor\"/>\n",
       "</g>\n",
       "\n",
       "<g class=\"displacy-arrow\">\n",
       "    <path class=\"displacy-arc\" id=\"arrow-0-2\" stroke-width=\"2px\" d=\"M290,222.0 C290,57.0 595.0,57.0 595.0,222.0\" fill=\"none\" stroke=\"currentColor\"/>\n",
       "    <text dy=\"1.25em\" style=\"font-size: 0.8em; letter-spacing: 1px\">\n",
       "        <textPath xlink:href=\"#arrow-0-2\" class=\"displacy-label\" startOffset=\"50%\" fill=\"currentColor\" text-anchor=\"middle\">nsubjpass</textPath>\n",
       "    </text>\n",
       "    <path class=\"displacy-arrowhead\" d=\"M290,224.0 L284,214.0 296,214.0\" fill=\"currentColor\"/>\n",
       "</g>\n",
       "\n",
       "<g class=\"displacy-arrow\">\n",
       "    <path class=\"displacy-arc\" id=\"arrow-0-3\" stroke-width=\"2px\" d=\"M400,222.0 C400,112.0 590.0,112.0 590.0,222.0\" fill=\"none\" stroke=\"currentColor\"/>\n",
       "    <text dy=\"1.25em\" style=\"font-size: 0.8em; letter-spacing: 1px\">\n",
       "        <textPath xlink:href=\"#arrow-0-3\" class=\"displacy-label\" startOffset=\"50%\" fill=\"currentColor\" text-anchor=\"middle\">aux</textPath>\n",
       "    </text>\n",
       "    <path class=\"displacy-arrowhead\" d=\"M400,224.0 L394,214.0 406,214.0\" fill=\"currentColor\"/>\n",
       "</g>\n",
       "\n",
       "<g class=\"displacy-arrow\">\n",
       "    <path class=\"displacy-arc\" id=\"arrow-0-4\" stroke-width=\"2px\" d=\"M510,222.0 C510,167.0 585.0,167.0 585.0,222.0\" fill=\"none\" stroke=\"currentColor\"/>\n",
       "    <text dy=\"1.25em\" style=\"font-size: 0.8em; letter-spacing: 1px\">\n",
       "        <textPath xlink:href=\"#arrow-0-4\" class=\"displacy-label\" startOffset=\"50%\" fill=\"currentColor\" text-anchor=\"middle\">auxpass</textPath>\n",
       "    </text>\n",
       "    <path class=\"displacy-arrowhead\" d=\"M510,224.0 L504,214.0 516,214.0\" fill=\"currentColor\"/>\n",
       "</g>\n",
       "\n",
       "<g class=\"displacy-arrow\">\n",
       "    <path class=\"displacy-arc\" id=\"arrow-0-5\" stroke-width=\"2px\" d=\"M620,222.0 C620,167.0 695.0,167.0 695.0,222.0\" fill=\"none\" stroke=\"currentColor\"/>\n",
       "    <text dy=\"1.25em\" style=\"font-size: 0.8em; letter-spacing: 1px\">\n",
       "        <textPath xlink:href=\"#arrow-0-5\" class=\"displacy-label\" startOffset=\"50%\" fill=\"currentColor\" text-anchor=\"middle\">agent</textPath>\n",
       "    </text>\n",
       "    <path class=\"displacy-arrowhead\" d=\"M695.0,224.0 L701.0,214.0 689.0,214.0\" fill=\"currentColor\"/>\n",
       "</g>\n",
       "\n",
       "<g class=\"displacy-arrow\">\n",
       "    <path class=\"displacy-arc\" id=\"arrow-0-6\" stroke-width=\"2px\" d=\"M840,222.0 C840,167.0 915.0,167.0 915.0,222.0\" fill=\"none\" stroke=\"currentColor\"/>\n",
       "    <text dy=\"1.25em\" style=\"font-size: 0.8em; letter-spacing: 1px\">\n",
       "        <textPath xlink:href=\"#arrow-0-6\" class=\"displacy-label\" startOffset=\"50%\" fill=\"currentColor\" text-anchor=\"middle\">compound</textPath>\n",
       "    </text>\n",
       "    <path class=\"displacy-arrowhead\" d=\"M840,224.0 L834,214.0 846,214.0\" fill=\"currentColor\"/>\n",
       "</g>\n",
       "\n",
       "<g class=\"displacy-arrow\">\n",
       "    <path class=\"displacy-arc\" id=\"arrow-0-7\" stroke-width=\"2px\" d=\"M730,222.0 C730,112.0 920.0,112.0 920.0,222.0\" fill=\"none\" stroke=\"currentColor\"/>\n",
       "    <text dy=\"1.25em\" style=\"font-size: 0.8em; letter-spacing: 1px\">\n",
       "        <textPath xlink:href=\"#arrow-0-7\" class=\"displacy-label\" startOffset=\"50%\" fill=\"currentColor\" text-anchor=\"middle\">pobj</textPath>\n",
       "    </text>\n",
       "    <path class=\"displacy-arrowhead\" d=\"M920.0,224.0 L926.0,214.0 914.0,214.0\" fill=\"currentColor\"/>\n",
       "</g>\n",
       "\n",
       "<g class=\"displacy-arrow\">\n",
       "    <path class=\"displacy-arc\" id=\"arrow-0-8\" stroke-width=\"2px\" d=\"M620,222.0 C620,2.0 1040.0,2.0 1040.0,222.0\" fill=\"none\" stroke=\"currentColor\"/>\n",
       "    <text dy=\"1.25em\" style=\"font-size: 0.8em; letter-spacing: 1px\">\n",
       "        <textPath xlink:href=\"#arrow-0-8\" class=\"displacy-label\" startOffset=\"50%\" fill=\"currentColor\" text-anchor=\"middle\">prep</textPath>\n",
       "    </text>\n",
       "    <path class=\"displacy-arrowhead\" d=\"M1040.0,224.0 L1046.0,214.0 1034.0,214.0\" fill=\"currentColor\"/>\n",
       "</g>\n",
       "\n",
       "<g class=\"displacy-arrow\">\n",
       "    <path class=\"displacy-arc\" id=\"arrow-0-9\" stroke-width=\"2px\" d=\"M1060,222.0 C1060,167.0 1135.0,167.0 1135.0,222.0\" fill=\"none\" stroke=\"currentColor\"/>\n",
       "    <text dy=\"1.25em\" style=\"font-size: 0.8em; letter-spacing: 1px\">\n",
       "        <textPath xlink:href=\"#arrow-0-9\" class=\"displacy-label\" startOffset=\"50%\" fill=\"currentColor\" text-anchor=\"middle\">pobj</textPath>\n",
       "    </text>\n",
       "    <path class=\"displacy-arrowhead\" d=\"M1135.0,224.0 L1141.0,214.0 1129.0,214.0\" fill=\"currentColor\"/>\n",
       "</g>\n",
       "\n",
       "<g class=\"displacy-arrow\">\n",
       "    <path class=\"displacy-arc\" id=\"arrow-0-10\" stroke-width=\"2px\" d=\"M1170,222.0 C1170,167.0 1245.0,167.0 1245.0,222.0\" fill=\"none\" stroke=\"currentColor\"/>\n",
       "    <text dy=\"1.25em\" style=\"font-size: 0.8em; letter-spacing: 1px\">\n",
       "        <textPath xlink:href=\"#arrow-0-10\" class=\"displacy-label\" startOffset=\"50%\" fill=\"currentColor\" text-anchor=\"middle\">prep</textPath>\n",
       "    </text>\n",
       "    <path class=\"displacy-arrowhead\" d=\"M1245.0,224.0 L1251.0,214.0 1239.0,214.0\" fill=\"currentColor\"/>\n",
       "</g>\n",
       "\n",
       "<g class=\"displacy-arrow\">\n",
       "    <path class=\"displacy-arc\" id=\"arrow-0-11\" stroke-width=\"2px\" d=\"M1390,222.0 C1390,112.0 1580.0,112.0 1580.0,222.0\" fill=\"none\" stroke=\"currentColor\"/>\n",
       "    <text dy=\"1.25em\" style=\"font-size: 0.8em; letter-spacing: 1px\">\n",
       "        <textPath xlink:href=\"#arrow-0-11\" class=\"displacy-label\" startOffset=\"50%\" fill=\"currentColor\" text-anchor=\"middle\">det</textPath>\n",
       "    </text>\n",
       "    <path class=\"displacy-arrowhead\" d=\"M1390,224.0 L1384,214.0 1396,214.0\" fill=\"currentColor\"/>\n",
       "</g>\n",
       "\n",
       "<g class=\"displacy-arrow\">\n",
       "    <path class=\"displacy-arc\" id=\"arrow-0-12\" stroke-width=\"2px\" d=\"M1500,222.0 C1500,167.0 1575.0,167.0 1575.0,222.0\" fill=\"none\" stroke=\"currentColor\"/>\n",
       "    <text dy=\"1.25em\" style=\"font-size: 0.8em; letter-spacing: 1px\">\n",
       "        <textPath xlink:href=\"#arrow-0-12\" class=\"displacy-label\" startOffset=\"50%\" fill=\"currentColor\" text-anchor=\"middle\">compound</textPath>\n",
       "    </text>\n",
       "    <path class=\"displacy-arrowhead\" d=\"M1500,224.0 L1494,214.0 1506,214.0\" fill=\"currentColor\"/>\n",
       "</g>\n",
       "\n",
       "<g class=\"displacy-arrow\">\n",
       "    <path class=\"displacy-arc\" id=\"arrow-0-13\" stroke-width=\"2px\" d=\"M1280,222.0 C1280,57.0 1585.0,57.0 1585.0,222.0\" fill=\"none\" stroke=\"currentColor\"/>\n",
       "    <text dy=\"1.25em\" style=\"font-size: 0.8em; letter-spacing: 1px\">\n",
       "        <textPath xlink:href=\"#arrow-0-13\" class=\"displacy-label\" startOffset=\"50%\" fill=\"currentColor\" text-anchor=\"middle\">pobj</textPath>\n",
       "    </text>\n",
       "    <path class=\"displacy-arrowhead\" d=\"M1585.0,224.0 L1591.0,214.0 1579.0,214.0\" fill=\"currentColor\"/>\n",
       "</g>\n",
       "\n",
       "<g class=\"displacy-arrow\">\n",
       "    <path class=\"displacy-arc\" id=\"arrow-0-14\" stroke-width=\"2px\" d=\"M1610,222.0 C1610,167.0 1685.0,167.0 1685.0,222.0\" fill=\"none\" stroke=\"currentColor\"/>\n",
       "    <text dy=\"1.25em\" style=\"font-size: 0.8em; letter-spacing: 1px\">\n",
       "        <textPath xlink:href=\"#arrow-0-14\" class=\"displacy-label\" startOffset=\"50%\" fill=\"currentColor\" text-anchor=\"middle\">appos</textPath>\n",
       "    </text>\n",
       "    <path class=\"displacy-arrowhead\" d=\"M1685.0,224.0 L1691.0,214.0 1679.0,214.0\" fill=\"currentColor\"/>\n",
       "</g>\n",
       "</svg>"
      ],
      "text/plain": [
       "<IPython.core.display.HTML object>"
      ]
     },
     "metadata": {},
     "output_type": "display_data"
    }
   ],
   "source": [
    "from spacy import displacy\n",
    "\n",
    "displacy.render(sentence_nlp, jupyter=True, \n",
    "                options={'distance': 110,\n",
    "                         'arrow_stroke': 2,\n",
    "                         'arrow_width': 8})"
   ]
  },
  {
   "cell_type": "markdown",
   "metadata": {},
   "source": [
    "# Dependency Parsing with Stanford NLP"
   ]
  },
  {
   "cell_type": "code",
   "execution_count": 21,
   "metadata": {},
   "outputs": [
    {
     "name": "stderr",
     "output_type": "stream",
     "text": [
      "C:\\Anaconda3\\lib\\site-packages\\ipykernel_launcher.py:5: DeprecationWarning: The StanfordDependencyParser will be deprecated\n",
      "Please use nltk.parse.corenlp.CoreNLPDependencyParser instead.\n",
      "  \"\"\"\n"
     ]
    },
    {
     "data": {
      "text/plain": [
       "<nltk.parse.stanford.StanfordDependencyParser at 0x24e688db588>"
      ]
     },
     "execution_count": 21,
     "metadata": {},
     "output_type": "execute_result"
    }
   ],
   "source": [
    "from nltk.parse.stanford import StanfordDependencyParser\n",
    "sdp = StanfordDependencyParser(path_to_jar='E:/stanford/stanford-parser-full-2015-04-20/stanford-parser.jar',\n",
    "                               path_to_models_jar='E:/stanford/stanford-parser-full-2015-04-20/stanford-parser-3.5.2-models.jar')\n",
    "\n",
    "sdp"
   ]
  },
  {
   "cell_type": "code",
   "execution_count": 23,
   "metadata": {},
   "outputs": [],
   "source": [
    "result = list(sdp.raw_parse(sentence))[0]"
   ]
  },
  {
   "cell_type": "code",
   "execution_count": 29,
   "metadata": {},
   "outputs": [
    {
     "name": "stdout",
     "output_type": "stream",
     "text": [
      "(organized\n",
      "  (Workshop This NLP)\n",
      "  is\n",
      "  being\n",
      "  (Vidhya by Analytics (part as (2018 of the DataHack Summit))))\n"
     ]
    }
   ],
   "source": [
    "# print the dependency tree\n",
    "print(result.tree())"
   ]
  },
  {
   "cell_type": "code",
   "execution_count": 30,
   "metadata": {},
   "outputs": [
    {
     "data": {
      "image/png": "[encoded data removed]",
      "text/plain": [
       "Tree('organized', [Tree('Workshop', ['This', 'NLP']), 'is', 'being', Tree('Vidhya', ['by', 'Analytics', Tree('part', ['as', Tree('2018', ['of', 'the', 'DataHack', 'Summit'])])])])"
      ]
     },
     "execution_count": 30,
     "metadata": {},
     "output_type": "execute_result"
    }
   ],
   "source": [
    "result.tree()"
   ]
  },
  {
   "cell_type": "code",
   "execution_count": 26,
   "metadata": {},
   "outputs": [
    {
     "data": {
      "image/svg+xml": [
       "<?xml version=\"1.0\" encoding=\"UTF-8\" standalone=\"no\"?>\n",
       "<!DOCTYPE svg PUBLIC \"-//W3C//DTD SVG 1.1//EN\"\n",
       " \"http://www.w3.org/Graphics/SVG/1.1/DTD/svg11.dtd\">\n",
       "<!-- Generated by graphviz version 2.38.0 (20140413.2041)\n",
       " -->\n",
       "<!-- Title: G Pages: 1 -->\n",
       "<svg width=\"684pt\" height=\"479pt\"\n",
       " viewBox=\"0.00 0.00 683.50 479.00\" xmlns=\"http://www.w3.org/2000/svg\" xmlns:xlink=\"http://www.w3.org/1999/xlink\">\n",
       "<g id=\"graph0\" class=\"graph\" transform=\"scale(1 1) rotate(0) translate(4 475)\">\n",
       "<title>G</title>\n",
       "<polygon fill=\"white\" stroke=\"none\" points=\"-4,4 -4,-475 679.5,-475 679.5,4 -4,4\"/>\n",
       "<!-- 0 -->\n",
       "<g id=\"node1\" class=\"node\"><title>0</title>\n",
       "<text text-anchor=\"middle\" x=\"202.5\" y=\"-449.3\" font-family=\"Times New Roman,serif\" font-size=\"14.00\">0 (None)</text>\n",
       "</g>\n",
       "<!-- 6 -->\n",
       "<g id=\"node2\" class=\"node\"><title>6</title>\n",
       "<text text-anchor=\"middle\" x=\"202.5\" y=\"-362.3\" font-family=\"Times New Roman,serif\" font-size=\"14.00\">6 (organized)</text>\n",
       "</g>\n",
       "<!-- 0&#45;&gt;6 -->\n",
       "<g id=\"edge1\" class=\"edge\"><title>0&#45;&gt;6</title>\n",
       "<path fill=\"none\" stroke=\"black\" d=\"M202.5,-434.799C202.5,-423.163 202.5,-407.548 202.5,-394.237\"/>\n",
       "<polygon fill=\"black\" stroke=\"black\" points=\"206,-394.175 202.5,-384.175 199,-394.175 206,-394.175\"/>\n",
       "<text text-anchor=\"middle\" x=\"214.5\" y=\"-405.8\" font-family=\"Times New Roman,serif\" font-size=\"14.00\">root</text>\n",
       "</g>\n",
       "<!-- 3 -->\n",
       "<g id=\"node5\" class=\"node\"><title>3</title>\n",
       "<text text-anchor=\"middle\" x=\"70.5\" y=\"-275.3\" font-family=\"Times New Roman,serif\" font-size=\"14.00\">3 (Workshop)</text>\n",
       "</g>\n",
       "<!-- 6&#45;&gt;3 -->\n",
       "<g id=\"edge4\" class=\"edge\"><title>6&#45;&gt;3</title>\n",
       "<path fill=\"none\" stroke=\"black\" d=\"M157.248,-348.917C145.164,-343.709 132.435,-337.348 121.5,-330 110.993,-322.939 100.755,-313.558 92.2428,-304.83\"/>\n",
       "<polygon fill=\"black\" stroke=\"black\" points=\"94.6489,-302.28 85.2432,-297.403 89.5547,-307.081 94.6489,-302.28\"/>\n",
       "<text text-anchor=\"middle\" x=\"149.5\" y=\"-318.8\" font-family=\"Times New Roman,serif\" font-size=\"14.00\">nsubjpass</text>\n",
       "</g>\n",
       "<!-- 4 -->\n",
       "<g id=\"node6\" class=\"node\"><title>4</title>\n",
       "<text text-anchor=\"middle\" x=\"163.5\" y=\"-275.3\" font-family=\"Times New Roman,serif\" font-size=\"14.00\">4 (is)</text>\n",
       "</g>\n",
       "<!-- 6&#45;&gt;4 -->\n",
       "<g id=\"edge5\" class=\"edge\"><title>6&#45;&gt;4</title>\n",
       "<path fill=\"none\" stroke=\"black\" d=\"M194.608,-347.799C189.163,-335.932 181.82,-319.928 175.635,-306.449\"/>\n",
       "<polygon fill=\"black\" stroke=\"black\" points=\"178.732,-304.805 171.38,-297.175 172.37,-307.724 178.732,-304.805\"/>\n",
       "<text text-anchor=\"middle\" x=\"195.5\" y=\"-318.8\" font-family=\"Times New Roman,serif\" font-size=\"14.00\">aux</text>\n",
       "</g>\n",
       "<!-- 5 -->\n",
       "<g id=\"node7\" class=\"node\"><title>5</title>\n",
       "<text text-anchor=\"middle\" x=\"241.5\" y=\"-275.3\" font-family=\"Times New Roman,serif\" font-size=\"14.00\">5 (being)</text>\n",
       "</g>\n",
       "<!-- 6&#45;&gt;5 -->\n",
       "<g id=\"edge6\" class=\"edge\"><title>6&#45;&gt;5</title>\n",
       "<path fill=\"none\" stroke=\"black\" d=\"M210.392,-347.799C215.837,-335.932 223.18,-319.928 229.365,-306.449\"/>\n",
       "<polygon fill=\"black\" stroke=\"black\" points=\"232.63,-307.724 233.62,-297.175 226.268,-304.805 232.63,-307.724\"/>\n",
       "<text text-anchor=\"middle\" x=\"247.5\" y=\"-318.8\" font-family=\"Times New Roman,serif\" font-size=\"14.00\">auxpass</text>\n",
       "</g>\n",
       "<!-- 9 -->\n",
       "<g id=\"node8\" class=\"node\"><title>9</title>\n",
       "<text text-anchor=\"middle\" x=\"330.5\" y=\"-275.3\" font-family=\"Times New Roman,serif\" font-size=\"14.00\">9 (Vidhya)</text>\n",
       "</g>\n",
       "<!-- 6&#45;&gt;9 -->\n",
       "<g id=\"edge7\" class=\"edge\"><title>6&#45;&gt;9</title>\n",
       "<path fill=\"none\" stroke=\"black\" d=\"M242.824,-347.82C253.454,-342.648 264.688,-336.579 274.5,-330 285.664,-322.515 296.92,-312.946 306.384,-304.188\"/>\n",
       "<polygon fill=\"black\" stroke=\"black\" points=\"309.025,-306.507 313.87,-297.085 304.206,-301.429 309.025,-306.507\"/>\n",
       "<text text-anchor=\"middle\" x=\"311\" y=\"-318.8\" font-family=\"Times New Roman,serif\" font-size=\"14.00\">nmod</text>\n",
       "</g>\n",
       "<!-- 1 -->\n",
       "<g id=\"node3\" class=\"node\"><title>1</title>\n",
       "<text text-anchor=\"middle\" x=\"30.5\" y=\"-188.3\" font-family=\"Times New Roman,serif\" font-size=\"14.00\">1 (This)</text>\n",
       "</g>\n",
       "<!-- 2 -->\n",
       "<g id=\"node4\" class=\"node\"><title>2</title>\n",
       "<text text-anchor=\"middle\" x=\"110.5\" y=\"-188.3\" font-family=\"Times New Roman,serif\" font-size=\"14.00\">2 (NLP)</text>\n",
       "</g>\n",
       "<!-- 3&#45;&gt;1 -->\n",
       "<g id=\"edge2\" class=\"edge\"><title>3&#45;&gt;1</title>\n",
       "<path fill=\"none\" stroke=\"black\" d=\"M62.4054,-260.799C56.821,-248.932 49.2896,-232.928 42.9465,-219.449\"/>\n",
       "<polygon fill=\"black\" stroke=\"black\" points=\"46.0075,-217.733 38.5826,-210.175 39.6737,-220.714 46.0075,-217.733\"/>\n",
       "<text text-anchor=\"middle\" x=\"62.5\" y=\"-231.8\" font-family=\"Times New Roman,serif\" font-size=\"14.00\">det</text>\n",
       "</g>\n",
       "<!-- 3&#45;&gt;2 -->\n",
       "<g id=\"edge3\" class=\"edge\"><title>3&#45;&gt;2</title>\n",
       "<path fill=\"none\" stroke=\"black\" d=\"M78.5946,-260.799C84.179,-248.932 91.7104,-232.928 98.0535,-219.449\"/>\n",
       "<polygon fill=\"black\" stroke=\"black\" points=\"101.326,-220.714 102.417,-210.175 94.9925,-217.733 101.326,-220.714\"/>\n",
       "<text text-anchor=\"middle\" x=\"124\" y=\"-231.8\" font-family=\"Times New Roman,serif\" font-size=\"14.00\">compound</text>\n",
       "</g>\n",
       "<!-- 7 -->\n",
       "<g id=\"node9\" class=\"node\"><title>7</title>\n",
       "<text text-anchor=\"middle\" x=\"241.5\" y=\"-188.3\" font-family=\"Times New Roman,serif\" font-size=\"14.00\">7 (by)</text>\n",
       "</g>\n",
       "<!-- 9&#45;&gt;7 -->\n",
       "<g id=\"edge8\" class=\"edge\"><title>9&#45;&gt;7</title>\n",
       "<path fill=\"none\" stroke=\"black\" d=\"M312.49,-260.799C299.34,-248.241 281.34,-231.049 266.755,-217.12\"/>\n",
       "<polygon fill=\"black\" stroke=\"black\" points=\"269.133,-214.551 259.484,-210.175 264.298,-219.613 269.133,-214.551\"/>\n",
       "<text text-anchor=\"middle\" x=\"304\" y=\"-231.8\" font-family=\"Times New Roman,serif\" font-size=\"14.00\">case</text>\n",
       "</g>\n",
       "<!-- 8 -->\n",
       "<g id=\"node10\" class=\"node\"><title>8</title>\n",
       "<text text-anchor=\"middle\" x=\"330.5\" y=\"-188.3\" font-family=\"Times New Roman,serif\" font-size=\"14.00\">8 (Analytics)</text>\n",
       "</g>\n",
       "<!-- 9&#45;&gt;8 -->\n",
       "<g id=\"edge9\" class=\"edge\"><title>9&#45;&gt;8</title>\n",
       "<path fill=\"none\" stroke=\"black\" d=\"M330.5,-260.799C330.5,-249.163 330.5,-233.548 330.5,-220.237\"/>\n",
       "<polygon fill=\"black\" stroke=\"black\" points=\"334,-220.175 330.5,-210.175 327,-220.175 334,-220.175\"/>\n",
       "<text text-anchor=\"middle\" x=\"361\" y=\"-231.8\" font-family=\"Times New Roman,serif\" font-size=\"14.00\">compound</text>\n",
       "</g>\n",
       "<!-- 11 -->\n",
       "<g id=\"node11\" class=\"node\"><title>11</title>\n",
       "<text text-anchor=\"middle\" x=\"425.5\" y=\"-188.3\" font-family=\"Times New Roman,serif\" font-size=\"14.00\">11 (part)</text>\n",
       "</g>\n",
       "<!-- 9&#45;&gt;11 -->\n",
       "<g id=\"edge10\" class=\"edge\"><title>9&#45;&gt;11</title>\n",
       "<path fill=\"none\" stroke=\"black\" d=\"M368.551,-261.899C378.037,-256.757 387.712,-250.434 395.5,-243 402.523,-236.296 408.494,-227.598 413.216,-219.34\"/>\n",
       "<polygon fill=\"black\" stroke=\"black\" points=\"416.401,-220.807 418.006,-210.334 410.22,-217.52 416.401,-220.807\"/>\n",
       "<text text-anchor=\"middle\" x=\"425\" y=\"-231.8\" font-family=\"Times New Roman,serif\" font-size=\"14.00\">nmod</text>\n",
       "</g>\n",
       "<!-- 10 -->\n",
       "<g id=\"node12\" class=\"node\"><title>10</title>\n",
       "<text text-anchor=\"middle\" x=\"393.5\" y=\"-101.3\" font-family=\"Times New Roman,serif\" font-size=\"14.00\">10 (as)</text>\n",
       "</g>\n",
       "<!-- 11&#45;&gt;10 -->\n",
       "<g id=\"edge11\" class=\"edge\"><title>11&#45;&gt;10</title>\n",
       "<path fill=\"none\" stroke=\"black\" d=\"M417.756,-173.662C415.339,-168.062 412.726,-161.802 410.5,-156 407.655,-148.585 404.789,-140.463 402.242,-132.961\"/>\n",
       "<polygon fill=\"black\" stroke=\"black\" points=\"405.484,-131.619 398.998,-123.242 398.844,-133.835 405.484,-131.619\"/>\n",
       "<text text-anchor=\"middle\" x=\"423\" y=\"-144.8\" font-family=\"Times New Roman,serif\" font-size=\"14.00\">case</text>\n",
       "</g>\n",
       "<!-- 16 -->\n",
       "<g id=\"node13\" class=\"node\"><title>16</title>\n",
       "<text text-anchor=\"middle\" x=\"474.5\" y=\"-101.3\" font-family=\"Times New Roman,serif\" font-size=\"14.00\">16 (2018)</text>\n",
       "</g>\n",
       "<!-- 11&#45;&gt;16 -->\n",
       "<g id=\"edge12\" class=\"edge\"><title>11&#45;&gt;16</title>\n",
       "<path fill=\"none\" stroke=\"black\" d=\"M435.416,-173.799C442.323,-161.817 451.662,-145.617 459.479,-132.057\"/>\n",
       "<polygon fill=\"black\" stroke=\"black\" points=\"462.637,-133.587 464.599,-123.175 456.572,-130.091 462.637,-133.587\"/>\n",
       "<text text-anchor=\"middle\" x=\"469\" y=\"-144.8\" font-family=\"Times New Roman,serif\" font-size=\"14.00\">nmod</text>\n",
       "</g>\n",
       "<!-- 12 -->\n",
       "<g id=\"node14\" class=\"node\"><title>12</title>\n",
       "<text text-anchor=\"middle\" x=\"350.5\" y=\"-14.3\" font-family=\"Times New Roman,serif\" font-size=\"14.00\">12 (of)</text>\n",
       "</g>\n",
       "<!-- 16&#45;&gt;12 -->\n",
       "<g id=\"edge13\" class=\"edge\"><title>16&#45;&gt;12</title>\n",
       "<path fill=\"none\" stroke=\"black\" d=\"M445.473,-86.8731C436.405,-81.3377 426.438,-75.0613 417.5,-69 405.127,-60.6097 391.865,-50.877 380.431,-42.2402\"/>\n",
       "<polygon fill=\"black\" stroke=\"black\" points=\"382.545,-39.4509 372.468,-36.1799 378.306,-45.0212 382.545,-39.4509\"/>\n",
       "<text text-anchor=\"middle\" x=\"430\" y=\"-57.8\" font-family=\"Times New Roman,serif\" font-size=\"14.00\">case</text>\n",
       "</g>\n",
       "<!-- 13 -->\n",
       "<g id=\"node15\" class=\"node\"><title>13</title>\n",
       "<text text-anchor=\"middle\" x=\"425.5\" y=\"-14.3\" font-family=\"Times New Roman,serif\" font-size=\"14.00\">13 (the)</text>\n",
       "</g>\n",
       "<!-- 16&#45;&gt;13 -->\n",
       "<g id=\"edge14\" class=\"edge\"><title>16&#45;&gt;13</title>\n",
       "<path fill=\"none\" stroke=\"black\" d=\"M464.584,-86.799C457.677,-74.8169 448.338,-58.6168 440.521,-45.0569\"/>\n",
       "<polygon fill=\"black\" stroke=\"black\" points=\"443.428,-43.091 435.401,-36.1754 437.363,-46.587 443.428,-43.091\"/>\n",
       "<text text-anchor=\"middle\" x=\"461.5\" y=\"-57.8\" font-family=\"Times New Roman,serif\" font-size=\"14.00\">det</text>\n",
       "</g>\n",
       "<!-- 14 -->\n",
       "<g id=\"node16\" class=\"node\"><title>14</title>\n",
       "<text text-anchor=\"middle\" x=\"522.5\" y=\"-14.3\" font-family=\"Times New Roman,serif\" font-size=\"14.00\">14 (DataHack)</text>\n",
       "</g>\n",
       "<!-- 16&#45;&gt;14 -->\n",
       "<g id=\"edge15\" class=\"edge\"><title>16&#45;&gt;14</title>\n",
       "<path fill=\"none\" stroke=\"black\" d=\"M484.214,-86.799C490.98,-74.8169 500.128,-58.6168 507.786,-45.0569\"/>\n",
       "<polygon fill=\"black\" stroke=\"black\" points=\"510.931,-46.604 512.801,-36.1754 504.836,-43.1619 510.931,-46.604\"/>\n",
       "<text text-anchor=\"middle\" x=\"531\" y=\"-57.8\" font-family=\"Times New Roman,serif\" font-size=\"14.00\">compound</text>\n",
       "</g>\n",
       "<!-- 15 -->\n",
       "<g id=\"node17\" class=\"node\"><title>15</title>\n",
       "<text text-anchor=\"middle\" x=\"632.5\" y=\"-14.3\" font-family=\"Times New Roman,serif\" font-size=\"14.00\">15 (Summit)</text>\n",
       "</g>\n",
       "<!-- 16&#45;&gt;15 -->\n",
       "<g id=\"edge16\" class=\"edge\"><title>16&#45;&gt;15</title>\n",
       "<path fill=\"none\" stroke=\"black\" d=\"M509.638,-93.0173C526.96,-86.9771 547.863,-78.7302 565.5,-69 579.101,-61.4965 593.04,-51.5282 604.657,-42.4672\"/>\n",
       "<polygon fill=\"black\" stroke=\"black\" points=\"607.032,-45.0498 612.667,-36.0781 602.667,-39.5772 607.032,-45.0498\"/>\n",
       "<text text-anchor=\"middle\" x=\"619\" y=\"-57.8\" font-family=\"Times New Roman,serif\" font-size=\"14.00\">compound</text>\n",
       "</g>\n",
       "</g>\n",
       "</svg>\n"
      ],
      "text/plain": [
       "<DependencyGraph with 17 nodes>"
      ]
     },
     "execution_count": 26,
     "metadata": {},
     "output_type": "execute_result"
    }
   ],
   "source": [
    "result"
   ]
  },
  {
   "cell_type": "markdown",
   "metadata": {},
   "source": [
    "# Dependency Parsing with Stanford Core NLP"
   ]
  },
  {
   "cell_type": "code",
   "execution_count": 31,
   "metadata": {},
   "outputs": [
    {
     "data": {
      "text/plain": [
       "<nltk.parse.corenlp.CoreNLPDependencyParser at 0x24e6d7d8ef0>"
      ]
     },
     "execution_count": 31,
     "metadata": {},
     "output_type": "execute_result"
    }
   ],
   "source": [
    "from nltk.parse.corenlp import CoreNLPDependencyParser\n",
    "\n",
    "dep_parser = CoreNLPDependencyParser()\n",
    "dep_parser"
   ]
  },
  {
   "cell_type": "code",
   "execution_count": 33,
   "metadata": {},
   "outputs": [],
   "source": [
    "result = list(dep_parser.raw_parse(sentence))[0]"
   ]
  },
  {
   "cell_type": "code",
   "execution_count": 35,
   "metadata": {},
   "outputs": [
    {
     "name": "stdout",
     "output_type": "stream",
     "text": [
      "(organized\n",
      "  (Workshop This NLP)\n",
      "  is\n",
      "  being\n",
      "  (Vidhya by Analytics)\n",
      "  (part as (Summit of the DataHack 2018)))\n"
     ]
    }
   ],
   "source": [
    "print(result.tree())"
   ]
  },
  {
   "cell_type": "code",
   "execution_count": 36,
   "metadata": {},
   "outputs": [
    {
     "data": {
      "image/png": "[encoded data removed]",
      "text/plain": [
       "Tree('organized', [Tree('Workshop', ['This', 'NLP']), 'is', 'being', Tree('Vidhya', ['by', 'Analytics']), Tree('part', ['as', Tree('Summit', ['of', 'the', 'DataHack', '2018'])])])"
      ]
     },
     "execution_count": 36,
     "metadata": {},
     "output_type": "execute_result"
    }
   ],
   "source": [
    "result.tree()"
   ]
  },
  {
   "cell_type": "code",
   "execution_count": 34,
   "metadata": {},
   "outputs": [
    {
     "data": {
      "image/svg+xml": [
       "<?xml version=\"1.0\" encoding=\"UTF-8\" standalone=\"no\"?>\n",
       "<!DOCTYPE svg PUBLIC \"-//W3C//DTD SVG 1.1//EN\"\n",
       " \"http://www.w3.org/Graphics/SVG/1.1/DTD/svg11.dtd\">\n",
       "<!-- Generated by graphviz version 2.38.0 (20140413.2041)\n",
       " -->\n",
       "<!-- Title: G Pages: 1 -->\n",
       "<svg width=\"703pt\" height=\"392pt\"\n",
       " viewBox=\"0.00 0.00 702.50 392.00\" xmlns=\"http://www.w3.org/2000/svg\" xmlns:xlink=\"http://www.w3.org/1999/xlink\">\n",
       "<g id=\"graph0\" class=\"graph\" transform=\"scale(1 1) rotate(0) translate(4 388)\">\n",
       "<title>G</title>\n",
       "<polygon fill=\"white\" stroke=\"none\" points=\"-4,4 -4,-388 698.5,-388 698.5,4 -4,4\"/>\n",
       "<!-- 0 -->\n",
       "<g id=\"node1\" class=\"node\"><title>0</title>\n",
       "<text text-anchor=\"middle\" x=\"241.5\" y=\"-362.3\" font-family=\"Times New Roman,serif\" font-size=\"14.00\">0 (None)</text>\n",
       "</g>\n",
       "<!-- 6 -->\n",
       "<g id=\"node2\" class=\"node\"><title>6</title>\n",
       "<text text-anchor=\"middle\" x=\"241.5\" y=\"-275.3\" font-family=\"Times New Roman,serif\" font-size=\"14.00\">6 (organized)</text>\n",
       "</g>\n",
       "<!-- 0&#45;&gt;6 -->\n",
       "<g id=\"edge1\" class=\"edge\"><title>0&#45;&gt;6</title>\n",
       "<path fill=\"none\" stroke=\"black\" d=\"M241.5,-347.799C241.5,-336.163 241.5,-320.548 241.5,-307.237\"/>\n",
       "<polygon fill=\"black\" stroke=\"black\" points=\"245,-307.175 241.5,-297.175 238,-307.175 245,-307.175\"/>\n",
       "<text text-anchor=\"middle\" x=\"261.5\" y=\"-318.8\" font-family=\"Times New Roman,serif\" font-size=\"14.00\">ROOT</text>\n",
       "</g>\n",
       "<!-- 3 -->\n",
       "<g id=\"node5\" class=\"node\"><title>3</title>\n",
       "<text text-anchor=\"middle\" x=\"70.5\" y=\"-188.3\" font-family=\"Times New Roman,serif\" font-size=\"14.00\">3 (Workshop)</text>\n",
       "</g>\n",
       "<!-- 6&#45;&gt;3 -->\n",
       "<g id=\"edge4\" class=\"edge\"><title>6&#45;&gt;3</title>\n",
       "<path fill=\"none\" stroke=\"black\" d=\"M196.417,-265.97C177.938,-260.208 156.668,-252.477 138.5,-243 124.491,-235.693 110.219,-225.67 98.3912,-216.517\"/>\n",
       "<polygon fill=\"black\" stroke=\"black\" points=\"100.258,-213.53 90.2494,-210.056 95.9074,-219.014 100.258,-213.53\"/>\n",
       "<text text-anchor=\"middle\" x=\"166.5\" y=\"-231.8\" font-family=\"Times New Roman,serif\" font-size=\"14.00\">nsubjpass</text>\n",
       "</g>\n",
       "<!-- 4 -->\n",
       "<g id=\"node6\" class=\"node\"><title>4</title>\n",
       "<text text-anchor=\"middle\" x=\"163.5\" y=\"-188.3\" font-family=\"Times New Roman,serif\" font-size=\"14.00\">4 (is)</text>\n",
       "</g>\n",
       "<!-- 6&#45;&gt;4 -->\n",
       "<g id=\"edge5\" class=\"edge\"><title>6&#45;&gt;4</title>\n",
       "<path fill=\"none\" stroke=\"black\" d=\"M225.716,-260.799C214.403,-248.471 198.993,-231.679 186.34,-217.89\"/>\n",
       "<polygon fill=\"black\" stroke=\"black\" points=\"188.601,-215.177 179.261,-210.175 183.443,-219.91 188.601,-215.177\"/>\n",
       "<text text-anchor=\"middle\" x=\"217.5\" y=\"-231.8\" font-family=\"Times New Roman,serif\" font-size=\"14.00\">aux</text>\n",
       "</g>\n",
       "<!-- 5 -->\n",
       "<g id=\"node7\" class=\"node\"><title>5</title>\n",
       "<text text-anchor=\"middle\" x=\"241.5\" y=\"-188.3\" font-family=\"Times New Roman,serif\" font-size=\"14.00\">5 (being)</text>\n",
       "</g>\n",
       "<!-- 6&#45;&gt;5 -->\n",
       "<g id=\"edge6\" class=\"edge\"><title>6&#45;&gt;5</title>\n",
       "<path fill=\"none\" stroke=\"black\" d=\"M241.5,-260.799C241.5,-249.163 241.5,-233.548 241.5,-220.237\"/>\n",
       "<polygon fill=\"black\" stroke=\"black\" points=\"245,-220.175 241.5,-210.175 238,-220.175 245,-220.175\"/>\n",
       "<text text-anchor=\"middle\" x=\"264.5\" y=\"-231.8\" font-family=\"Times New Roman,serif\" font-size=\"14.00\">auxpass</text>\n",
       "</g>\n",
       "<!-- 9 -->\n",
       "<g id=\"node8\" class=\"node\"><title>9</title>\n",
       "<text text-anchor=\"middle\" x=\"330.5\" y=\"-188.3\" font-family=\"Times New Roman,serif\" font-size=\"14.00\">9 (Vidhya)</text>\n",
       "</g>\n",
       "<!-- 6&#45;&gt;9 -->\n",
       "<g id=\"edge7\" class=\"edge\"><title>6&#45;&gt;9</title>\n",
       "<path fill=\"none\" stroke=\"black\" d=\"M269.101,-260.859C276.717,-255.563 284.738,-249.421 291.5,-243 299.202,-235.686 306.639,-226.783 312.915,-218.527\"/>\n",
       "<polygon fill=\"black\" stroke=\"black\" points=\"315.896,-220.382 318.999,-210.252 310.256,-216.236 315.896,-220.382\"/>\n",
       "<text text-anchor=\"middle\" x=\"322\" y=\"-231.8\" font-family=\"Times New Roman,serif\" font-size=\"14.00\">nmod</text>\n",
       "</g>\n",
       "<!-- 11 -->\n",
       "<g id=\"node9\" class=\"node\"><title>11</title>\n",
       "<text text-anchor=\"middle\" x=\"420.5\" y=\"-188.3\" font-family=\"Times New Roman,serif\" font-size=\"14.00\">11 (part)</text>\n",
       "</g>\n",
       "<!-- 6&#45;&gt;11 -->\n",
       "<g id=\"edge8\" class=\"edge\"><title>6&#45;&gt;11</title>\n",
       "<path fill=\"none\" stroke=\"black\" d=\"M286.664,-264.878C304.445,-259.065 324.803,-251.588 342.5,-243 358.288,-235.338 374.786,-225.126 388.521,-215.928\"/>\n",
       "<polygon fill=\"black\" stroke=\"black\" points=\"390.824,-218.594 397.113,-210.067 386.88,-212.811 390.824,-218.594\"/>\n",
       "<text text-anchor=\"middle\" x=\"386\" y=\"-231.8\" font-family=\"Times New Roman,serif\" font-size=\"14.00\">nmod</text>\n",
       "</g>\n",
       "<!-- 1 -->\n",
       "<g id=\"node3\" class=\"node\"><title>1</title>\n",
       "<text text-anchor=\"middle\" x=\"30.5\" y=\"-101.3\" font-family=\"Times New Roman,serif\" font-size=\"14.00\">1 (This)</text>\n",
       "</g>\n",
       "<!-- 2 -->\n",
       "<g id=\"node4\" class=\"node\"><title>2</title>\n",
       "<text text-anchor=\"middle\" x=\"110.5\" y=\"-101.3\" font-family=\"Times New Roman,serif\" font-size=\"14.00\">2 (NLP)</text>\n",
       "</g>\n",
       "<!-- 3&#45;&gt;1 -->\n",
       "<g id=\"edge2\" class=\"edge\"><title>3&#45;&gt;1</title>\n",
       "<path fill=\"none\" stroke=\"black\" d=\"M62.4054,-173.799C56.821,-161.932 49.2896,-145.928 42.9465,-132.449\"/>\n",
       "<polygon fill=\"black\" stroke=\"black\" points=\"46.0075,-130.733 38.5826,-123.175 39.6737,-133.714 46.0075,-130.733\"/>\n",
       "<text text-anchor=\"middle\" x=\"62.5\" y=\"-144.8\" font-family=\"Times New Roman,serif\" font-size=\"14.00\">det</text>\n",
       "</g>\n",
       "<!-- 3&#45;&gt;2 -->\n",
       "<g id=\"edge3\" class=\"edge\"><title>3&#45;&gt;2</title>\n",
       "<path fill=\"none\" stroke=\"black\" d=\"M78.5946,-173.799C84.179,-161.932 91.7104,-145.928 98.0535,-132.449\"/>\n",
       "<polygon fill=\"black\" stroke=\"black\" points=\"101.326,-133.714 102.417,-123.175 94.9925,-130.733 101.326,-133.714\"/>\n",
       "<text text-anchor=\"middle\" x=\"124\" y=\"-144.8\" font-family=\"Times New Roman,serif\" font-size=\"14.00\">compound</text>\n",
       "</g>\n",
       "<!-- 7 -->\n",
       "<g id=\"node10\" class=\"node\"><title>7</title>\n",
       "<text text-anchor=\"middle\" x=\"241.5\" y=\"-101.3\" font-family=\"Times New Roman,serif\" font-size=\"14.00\">7 (by)</text>\n",
       "</g>\n",
       "<!-- 9&#45;&gt;7 -->\n",
       "<g id=\"edge9\" class=\"edge\"><title>9&#45;&gt;7</title>\n",
       "<path fill=\"none\" stroke=\"black\" d=\"M312.49,-173.799C299.34,-161.241 281.34,-144.049 266.755,-130.12\"/>\n",
       "<polygon fill=\"black\" stroke=\"black\" points=\"269.133,-127.551 259.484,-123.175 264.298,-132.613 269.133,-127.551\"/>\n",
       "<text text-anchor=\"middle\" x=\"304\" y=\"-144.8\" font-family=\"Times New Roman,serif\" font-size=\"14.00\">case</text>\n",
       "</g>\n",
       "<!-- 8 -->\n",
       "<g id=\"node11\" class=\"node\"><title>8</title>\n",
       "<text text-anchor=\"middle\" x=\"330.5\" y=\"-101.3\" font-family=\"Times New Roman,serif\" font-size=\"14.00\">8 (Analytics)</text>\n",
       "</g>\n",
       "<!-- 9&#45;&gt;8 -->\n",
       "<g id=\"edge10\" class=\"edge\"><title>9&#45;&gt;8</title>\n",
       "<path fill=\"none\" stroke=\"black\" d=\"M330.5,-173.799C330.5,-162.163 330.5,-146.548 330.5,-133.237\"/>\n",
       "<polygon fill=\"black\" stroke=\"black\" points=\"334,-133.175 330.5,-123.175 327,-133.175 334,-133.175\"/>\n",
       "<text text-anchor=\"middle\" x=\"361\" y=\"-144.8\" font-family=\"Times New Roman,serif\" font-size=\"14.00\">compound</text>\n",
       "</g>\n",
       "<!-- 10 -->\n",
       "<g id=\"node12\" class=\"node\"><title>10</title>\n",
       "<text text-anchor=\"middle\" x=\"420.5\" y=\"-101.3\" font-family=\"Times New Roman,serif\" font-size=\"14.00\">10 (as)</text>\n",
       "</g>\n",
       "<!-- 11&#45;&gt;10 -->\n",
       "<g id=\"edge11\" class=\"edge\"><title>11&#45;&gt;10</title>\n",
       "<path fill=\"none\" stroke=\"black\" d=\"M420.5,-173.799C420.5,-162.163 420.5,-146.548 420.5,-133.237\"/>\n",
       "<polygon fill=\"black\" stroke=\"black\" points=\"424,-133.175 420.5,-123.175 417,-133.175 424,-133.175\"/>\n",
       "<text text-anchor=\"middle\" x=\"433\" y=\"-144.8\" font-family=\"Times New Roman,serif\" font-size=\"14.00\">case</text>\n",
       "</g>\n",
       "<!-- 15 -->\n",
       "<g id=\"node13\" class=\"node\"><title>15</title>\n",
       "<text text-anchor=\"middle\" x=\"509.5\" y=\"-101.3\" font-family=\"Times New Roman,serif\" font-size=\"14.00\">15 (Summit)</text>\n",
       "</g>\n",
       "<!-- 11&#45;&gt;15 -->\n",
       "<g id=\"edge12\" class=\"edge\"><title>11&#45;&gt;15</title>\n",
       "<path fill=\"none\" stroke=\"black\" d=\"M438.51,-173.799C451.66,-161.241 469.66,-144.049 484.245,-130.12\"/>\n",
       "<polygon fill=\"black\" stroke=\"black\" points=\"486.702,-132.613 491.516,-123.175 481.867,-127.551 486.702,-132.613\"/>\n",
       "<text text-anchor=\"middle\" x=\"487\" y=\"-144.8\" font-family=\"Times New Roman,serif\" font-size=\"14.00\">nmod</text>\n",
       "</g>\n",
       "<!-- 12 -->\n",
       "<g id=\"node14\" class=\"node\"><title>12</title>\n",
       "<text text-anchor=\"middle\" x=\"385.5\" y=\"-14.3\" font-family=\"Times New Roman,serif\" font-size=\"14.00\">12 (of)</text>\n",
       "</g>\n",
       "<!-- 15&#45;&gt;12 -->\n",
       "<g id=\"edge13\" class=\"edge\"><title>15&#45;&gt;12</title>\n",
       "<path fill=\"none\" stroke=\"black\" d=\"M481.319,-86.9623C472.336,-81.3789 462.417,-75.0523 453.5,-69 441.012,-60.5238 427.565,-50.7743 415.952,-42.1482\"/>\n",
       "<polygon fill=\"black\" stroke=\"black\" points=\"417.966,-39.2836 407.861,-36.0999 413.775,-44.8904 417.966,-39.2836\"/>\n",
       "<text text-anchor=\"middle\" x=\"466\" y=\"-57.8\" font-family=\"Times New Roman,serif\" font-size=\"14.00\">case</text>\n",
       "</g>\n",
       "<!-- 13 -->\n",
       "<g id=\"node15\" class=\"node\"><title>13</title>\n",
       "<text text-anchor=\"middle\" x=\"460.5\" y=\"-14.3\" font-family=\"Times New Roman,serif\" font-size=\"14.00\">13 (the)</text>\n",
       "</g>\n",
       "<!-- 15&#45;&gt;13 -->\n",
       "<g id=\"edge14\" class=\"edge\"><title>15&#45;&gt;13</title>\n",
       "<path fill=\"none\" stroke=\"black\" d=\"M499.584,-86.799C492.677,-74.8169 483.338,-58.6168 475.521,-45.0569\"/>\n",
       "<polygon fill=\"black\" stroke=\"black\" points=\"478.428,-43.091 470.401,-36.1754 472.363,-46.587 478.428,-43.091\"/>\n",
       "<text text-anchor=\"middle\" x=\"497.5\" y=\"-57.8\" font-family=\"Times New Roman,serif\" font-size=\"14.00\">det</text>\n",
       "</g>\n",
       "<!-- 14 -->\n",
       "<g id=\"node16\" class=\"node\"><title>14</title>\n",
       "<text text-anchor=\"middle\" x=\"557.5\" y=\"-14.3\" font-family=\"Times New Roman,serif\" font-size=\"14.00\">14 (DataHack)</text>\n",
       "</g>\n",
       "<!-- 15&#45;&gt;14 -->\n",
       "<g id=\"edge15\" class=\"edge\"><title>15&#45;&gt;14</title>\n",
       "<path fill=\"none\" stroke=\"black\" d=\"M519.214,-86.799C525.98,-74.8169 535.128,-58.6168 542.786,-45.0569\"/>\n",
       "<polygon fill=\"black\" stroke=\"black\" points=\"545.931,-46.604 547.801,-36.1754 539.836,-43.1619 545.931,-46.604\"/>\n",
       "<text text-anchor=\"middle\" x=\"567\" y=\"-57.8\" font-family=\"Times New Roman,serif\" font-size=\"14.00\">compound</text>\n",
       "</g>\n",
       "<!-- 16 -->\n",
       "<g id=\"node17\" class=\"node\"><title>16</title>\n",
       "<text text-anchor=\"middle\" x=\"659.5\" y=\"-14.3\" font-family=\"Times New Roman,serif\" font-size=\"14.00\">16 (2018)</text>\n",
       "</g>\n",
       "<!-- 15&#45;&gt;16 -->\n",
       "<g id=\"edge16\" class=\"edge\"><title>15&#45;&gt;16</title>\n",
       "<path fill=\"none\" stroke=\"black\" d=\"M552.603,-91.0951C568.534,-85.4377 586.38,-78.0118 601.5,-69 613.575,-61.8031 625.569,-52.0217 635.49,-43.0185\"/>\n",
       "<polygon fill=\"black\" stroke=\"black\" points=\"638.051,-45.4159 642.964,-36.0291 633.269,-40.3033 638.051,-45.4159\"/>\n",
       "<text text-anchor=\"middle\" x=\"646.5\" y=\"-57.8\" font-family=\"Times New Roman,serif\" font-size=\"14.00\">nummod</text>\n",
       "</g>\n",
       "</g>\n",
       "</svg>\n"
      ],
      "text/plain": [
       "<DependencyGraph with 17 nodes>"
      ]
     },
     "execution_count": 34,
     "metadata": {},
     "output_type": "execute_result"
    }
   ],
   "source": [
    "result"
   ]
  },
  {
   "cell_type": "code",
   "execution_count": 40,
   "metadata": {},
   "outputs": [
    {
     "data": {
      "text/plain": [
       "[(('organized', 'VBN'), 'nsubjpass', ('Workshop', 'NNP')),\n",
       " (('Workshop', 'NNP'), 'det', ('This', 'DT')),\n",
       " (('Workshop', 'NNP'), 'compound', ('NLP', 'NNP')),\n",
       " (('organized', 'VBN'), 'aux', ('is', 'VBZ')),\n",
       " (('organized', 'VBN'), 'auxpass', ('being', 'VBG')),\n",
       " (('organized', 'VBN'), 'nmod', ('Vidhya', 'NNP')),\n",
       " (('Vidhya', 'NNP'), 'case', ('by', 'IN')),\n",
       " (('Vidhya', 'NNP'), 'compound', ('Analytics', 'NNP')),\n",
       " (('organized', 'VBN'), 'nmod', ('part', 'NN')),\n",
       " (('part', 'NN'), 'case', ('as', 'IN')),\n",
       " (('part', 'NN'), 'nmod', ('Summit', 'NNP')),\n",
       " (('Summit', 'NNP'), 'case', ('of', 'IN')),\n",
       " (('Summit', 'NNP'), 'det', ('the', 'DT')),\n",
       " (('Summit', 'NNP'), 'compound', ('DataHack', 'NNP')),\n",
       " (('Summit', 'NNP'), 'nummod', ('2018', 'CD'))]"
      ]
     },
     "execution_count": 40,
     "metadata": {},
     "output_type": "execute_result"
    }
   ],
   "source": [
    "list(result.triples())"
   ]
  },
  {
   "cell_type": "code",
   "execution_count": 49,
   "metadata": {},
   "outputs": [
    {
     "name": "stdout",
     "output_type": "stream",
     "text": [
      "This\tDT\t3\tdet\n",
      "NLP\tNNP\t3\tcompound\n",
      "Workshop\tNNP\t6\tnsubjpass\n",
      "is\tVBZ\t6\taux\n",
      "being\tVBG\t6\tauxpass\n",
      "organized\tVBN\t0\tROOT\n",
      "by\tIN\t9\tcase\n",
      "Analytics\tNNP\t9\tcompound\n",
      "Vidhya\tNNP\t6\tnmod\n",
      "as\tIN\t11\tcase\n",
      "part\tNN\t6\tnmod\n",
      "of\tIN\t15\tcase\n",
      "the\tDT\t15\tdet\n",
      "DataHack\tNNP\t15\tcompound\n",
      "Summit\tNNP\t11\tnmod\n",
      "2018\tCD\t15\tnummod\n",
      "\n"
     ]
    }
   ],
   "source": [
    "print(result.to_conll(4))"
   ]
  },
  {
   "cell_type": "markdown",
   "metadata": {},
   "source": [
    "You can notice the similarities with the tree we had obtained earlier. The annotations help with understanding the type of dependency among the different tokens."
   ]
  }
 ],
 "metadata": {
  "kernelspec": {
   "display_name": "Python 3",
   "language": "python",
   "name": "python3"
  },
  "language_info": {
   "codemirror_mode": {
    "name": "ipython",
    "version": 3
   },
   "file_extension": ".py",
   "mimetype": "text/x-python",
   "name": "python",
   "nbconvert_exporter": "python",
   "pygments_lexer": "ipython3",
   "version": "3.6.5"
  }
 },
 "nbformat": 4,
 "nbformat_minor": 2
}
